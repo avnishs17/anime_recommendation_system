{
 "cells": [
  {
   "cell_type": "markdown",
   "metadata": {},
   "source": [
    "# Ran the training code in kaggle."
   ]
  },
  {
   "cell_type": "code",
   "execution_count": 1,
   "metadata": {
    "_cell_guid": "ad76580f-306f-46ff-8ebf-c3aeba54a5aa",
    "_uuid": "cde7dbb9-c0e0-4ec8-8177-2fdad82ba3b1",
    "collapsed": false,
    "execution": {
     "iopub.execute_input": "2025-06-10T17:21:25.024592Z",
     "iopub.status.busy": "2025-06-10T17:21:25.024107Z",
     "iopub.status.idle": "2025-06-10T17:21:40.586412Z",
     "shell.execute_reply": "2025-06-10T17:21:40.585844Z",
     "shell.execute_reply.started": "2025-06-10T17:21:25.024567Z"
    },
    "jupyter": {
     "outputs_hidden": false
    },
    "trusted": true
   },
   "outputs": [
    {
     "name": "stderr",
     "output_type": "stream",
     "text": [
      "2025-06-10 17:21:27.525111: E external/local_xla/xla/stream_executor/cuda/cuda_fft.cc:477] Unable to register cuFFT factory: Attempting to register factory for plugin cuFFT when one has already been registered\n",
      "WARNING: All log messages before absl::InitializeLog() is called are written to STDERR\n",
      "E0000 00:00:1749576087.793509      35 cuda_dnn.cc:8310] Unable to register cuDNN factory: Attempting to register factory for plugin cuDNN when one has already been registered\n",
      "E0000 00:00:1749576087.867834      35 cuda_blas.cc:1418] Unable to register cuBLAS factory: Attempting to register factory for plugin cuBLAS when one has already been registered\n"
     ]
    }
   ],
   "source": [
    "import pandas as pd\n",
    "import numpy as np\n",
    "import matplotlib.pyplot as plt\n",
    "\n",
    "import tensorflow as tf\n",
    "from tensorflow.keras import layers\n",
    "from tensorflow.keras.models import Model\n",
    "from tensorflow.keras.optimizers import Adam\n",
    "from tensorflow.keras.layers import Activation,BatchNormalization,Input,Embedding,Dot,Dense,Flatten\n",
    "from tensorflow.keras.callbacks import ModelCheckpoint,LearningRateScheduler,TensorBoard,EarlyStopping\n",
    "\n",
    "from wordcloud import WordCloud\n",
    "%matplotlib inline"
   ]
  },
  {
   "cell_type": "code",
   "execution_count": 2,
   "metadata": {
    "_cell_guid": "796f14bf-8a5d-4f85-9bb4-3133602da9b2",
    "_uuid": "92bbd44c-88de-4048-a2e4-f10219b68507",
    "collapsed": false,
    "execution": {
     "iopub.execute_input": "2025-06-10T17:21:40.587841Z",
     "iopub.status.busy": "2025-06-10T17:21:40.587383Z",
     "iopub.status.idle": "2025-06-10T17:21:40.591325Z",
     "shell.execute_reply": "2025-06-10T17:21:40.590665Z",
     "shell.execute_reply.started": "2025-06-10T17:21:40.587809Z"
    },
    "jupyter": {
     "outputs_hidden": false
    },
    "trusted": true
   },
   "outputs": [],
   "source": [
    "import os"
   ]
  },
  {
   "cell_type": "markdown",
   "metadata": {
    "_cell_guid": "11749d41-9215-4338-b4e1-1fa36e2607ad",
    "_uuid": "018785f1-f372-4e2e-b278-7a7de86e39b9",
    "collapsed": false,
    "jupyter": {
     "outputs_hidden": false
    },
    "trusted": true
   },
   "source": [
    "### READING ANIMELIST.CSV"
   ]
  },
  {
   "cell_type": "code",
   "execution_count": null,
   "metadata": {
    "_cell_guid": "db3fa573-315a-46ac-9309-76f13edecbe5",
    "_uuid": "6fbd6851-518d-475b-9ad1-aeaa0935f66c",
    "collapsed": false,
    "execution": {
     "iopub.execute_input": "2025-06-10T17:21:47.018698Z",
     "iopub.status.busy": "2025-06-10T17:21:47.018405Z",
     "iopub.status.idle": "2025-06-10T17:21:47.022639Z",
     "shell.execute_reply": "2025-06-10T17:21:47.021934Z",
     "shell.execute_reply.started": "2025-06-10T17:21:47.018677Z"
    },
    "jupyter": {
     "outputs_hidden": false
    },
    "trusted": true
   },
   "outputs": [],
   "source": [
    "INPUT_DIR = os.path.join(\"..\",\"artifacts\",\"raw\")\n",
    "\n",
    "# INPUT_DIR = \"/kaggle/input/anime-recommendation-database-2020\""
   ]
  },
  {
   "cell_type": "code",
   "execution_count": 4,
   "metadata": {
    "_cell_guid": "1f602061-9298-42a7-887a-ee0cc3ed1a7a",
    "_uuid": "8c5788f2-6c21-45f2-9c44-af2a79edd49d",
    "collapsed": false,
    "execution": {
     "iopub.execute_input": "2025-06-10T17:22:22.245168Z",
     "iopub.status.busy": "2025-06-10T17:22:22.244883Z",
     "iopub.status.idle": "2025-06-10T17:22:58.486206Z",
     "shell.execute_reply": "2025-06-10T17:22:58.485634Z",
     "shell.execute_reply.started": "2025-06-10T17:22:22.245145Z"
    },
    "jupyter": {
     "outputs_hidden": false
    },
    "trusted": true
   },
   "outputs": [],
   "source": [
    "# Load rating data with only required columns to save memory\n",
    "rating_df = pd.read_csv(INPUT_DIR+\"/animelist.csv\" , low_memory=True,usecols=[\"user_id\",\"anime_id\",\"rating\"])"
   ]
  },
  {
   "cell_type": "code",
   "execution_count": 5,
   "metadata": {
    "_cell_guid": "7941350b-fcaa-40e9-8a02-3053fc802aa2",
    "_uuid": "b0de0106-58a6-481b-af6e-cc5e165b49a7",
    "collapsed": false,
    "execution": {
     "iopub.execute_input": "2025-06-10T17:22:58.488374Z",
     "iopub.status.busy": "2025-06-10T17:22:58.488142Z",
     "iopub.status.idle": "2025-06-10T17:22:58.509675Z",
     "shell.execute_reply": "2025-06-10T17:22:58.508721Z",
     "shell.execute_reply.started": "2025-06-10T17:22:58.488356Z"
    },
    "jupyter": {
     "outputs_hidden": false
    },
    "trusted": true
   },
   "outputs": [
    {
     "data": {
      "text/html": [
       "<div>\n",
       "<style scoped>\n",
       "    .dataframe tbody tr th:only-of-type {\n",
       "        vertical-align: middle;\n",
       "    }\n",
       "\n",
       "    .dataframe tbody tr th {\n",
       "        vertical-align: top;\n",
       "    }\n",
       "\n",
       "    .dataframe thead th {\n",
       "        text-align: right;\n",
       "    }\n",
       "</style>\n",
       "<table border=\"1\" class=\"dataframe\">\n",
       "  <thead>\n",
       "    <tr style=\"text-align: right;\">\n",
       "      <th></th>\n",
       "      <th>user_id</th>\n",
       "      <th>anime_id</th>\n",
       "      <th>rating</th>\n",
       "    </tr>\n",
       "  </thead>\n",
       "  <tbody>\n",
       "    <tr>\n",
       "      <th>0</th>\n",
       "      <td>0</td>\n",
       "      <td>67</td>\n",
       "      <td>9</td>\n",
       "    </tr>\n",
       "    <tr>\n",
       "      <th>1</th>\n",
       "      <td>0</td>\n",
       "      <td>6702</td>\n",
       "      <td>7</td>\n",
       "    </tr>\n",
       "    <tr>\n",
       "      <th>2</th>\n",
       "      <td>0</td>\n",
       "      <td>242</td>\n",
       "      <td>10</td>\n",
       "    </tr>\n",
       "    <tr>\n",
       "      <th>3</th>\n",
       "      <td>0</td>\n",
       "      <td>4898</td>\n",
       "      <td>0</td>\n",
       "    </tr>\n",
       "    <tr>\n",
       "      <th>4</th>\n",
       "      <td>0</td>\n",
       "      <td>21</td>\n",
       "      <td>10</td>\n",
       "    </tr>\n",
       "  </tbody>\n",
       "</table>\n",
       "</div>"
      ],
      "text/plain": [
       "   user_id  anime_id  rating\n",
       "0        0        67       9\n",
       "1        0      6702       7\n",
       "2        0       242      10\n",
       "3        0      4898       0\n",
       "4        0        21      10"
      ]
     },
     "execution_count": 5,
     "metadata": {},
     "output_type": "execute_result"
    }
   ],
   "source": [
    "rating_df.head()"
   ]
  },
  {
   "cell_type": "code",
   "execution_count": 6,
   "metadata": {
    "_cell_guid": "629a9356-a0ac-431b-ac9d-c1e056b791fb",
    "_uuid": "fc7dc7a3-0fd1-4f2a-9db1-9baba3f128ee",
    "collapsed": false,
    "execution": {
     "iopub.execute_input": "2025-06-10T17:22:58.510572Z",
     "iopub.status.busy": "2025-06-10T17:22:58.510317Z",
     "iopub.status.idle": "2025-06-10T17:22:58.515159Z",
     "shell.execute_reply": "2025-06-10T17:22:58.514549Z",
     "shell.execute_reply.started": "2025-06-10T17:22:58.510555Z"
    },
    "jupyter": {
     "outputs_hidden": false
    },
    "trusted": true
   },
   "outputs": [
    {
     "data": {
      "text/plain": [
       "109224747"
      ]
     },
     "execution_count": 6,
     "metadata": {},
     "output_type": "execute_result"
    }
   ],
   "source": [
    "len(rating_df)"
   ]
  },
  {
   "cell_type": "markdown",
   "metadata": {
    "_cell_guid": "61d69891-695d-4cdc-a8fe-698538227a60",
    "_uuid": "d47676ec-807d-4dd5-a33e-136b746b84ca",
    "collapsed": false,
    "jupyter": {
     "outputs_hidden": false
    },
    "trusted": true
   },
   "source": [
    "#### DATA PROCESSING"
   ]
  },
  {
   "cell_type": "code",
   "execution_count": 7,
   "metadata": {
    "_cell_guid": "d8d3c7d7-a0df-4746-adf8-25557b60a9dc",
    "_uuid": "563b540d-ed4f-4f9c-9fc2-503e5f7d30b4",
    "collapsed": false,
    "execution": {
     "iopub.execute_input": "2025-06-10T17:22:58.516868Z",
     "iopub.status.busy": "2025-06-10T17:22:58.516672Z",
     "iopub.status.idle": "2025-06-10T17:23:02.846218Z",
     "shell.execute_reply": "2025-06-10T17:23:02.845665Z",
     "shell.execute_reply.started": "2025-06-10T17:22:58.516852Z"
    },
    "jupyter": {
     "outputs_hidden": false
    },
    "trusted": true
   },
   "outputs": [],
   "source": [
    "# Filter users who have rated at least 400 anime to ensure quality recommendations\n",
    "n_ratings = rating_df[\"user_id\"].value_counts()\n",
    "rating_df = rating_df[rating_df[\"user_id\"].isin(n_ratings[n_ratings>=400].index)].copy()"
   ]
  },
  {
   "cell_type": "code",
   "execution_count": 8,
   "metadata": {
    "_cell_guid": "f04d8d0d-93ed-4550-83b6-eac963fc746a",
    "_uuid": "33e8ae25-6c91-4b9c-a92d-b70eb1af0536",
    "collapsed": false,
    "execution": {
     "iopub.execute_input": "2025-06-10T17:23:02.847055Z",
     "iopub.status.busy": "2025-06-10T17:23:02.846847Z",
     "iopub.status.idle": "2025-06-10T17:23:02.852120Z",
     "shell.execute_reply": "2025-06-10T17:23:02.851358Z",
     "shell.execute_reply.started": "2025-06-10T17:23:02.847036Z"
    },
    "jupyter": {
     "outputs_hidden": false
    },
    "trusted": true
   },
   "outputs": [
    {
     "data": {
      "text/plain": [
       "71418114"
      ]
     },
     "execution_count": 8,
     "metadata": {},
     "output_type": "execute_result"
    }
   ],
   "source": [
    "len(rating_df)"
   ]
  },
  {
   "cell_type": "code",
   "execution_count": 9,
   "metadata": {
    "_cell_guid": "a55f0f77-2e66-4ca3-8d06-0cb3130b5e6a",
    "_uuid": "d5be3aba-f39a-4b4e-b8b7-ca0a86eb463e",
    "collapsed": false,
    "execution": {
     "iopub.execute_input": "2025-06-10T17:23:02.853099Z",
     "iopub.status.busy": "2025-06-10T17:23:02.852909Z",
     "iopub.status.idle": "2025-06-10T17:23:07.942194Z",
     "shell.execute_reply": "2025-06-10T17:23:07.941383Z",
     "shell.execute_reply.started": "2025-06-10T17:23:02.853084Z"
    },
    "jupyter": {
     "outputs_hidden": false
    },
    "trusted": true
   },
   "outputs": [],
   "source": [
    "min_rating =min(rating_df[\"rating\"])"
   ]
  },
  {
   "cell_type": "code",
   "execution_count": 10,
   "metadata": {
    "_cell_guid": "aef04a19-6873-44b9-aadb-e9bced5501ed",
    "_uuid": "678eb166-7155-49cd-8180-e8e0a80ecd9e",
    "collapsed": false,
    "execution": {
     "iopub.execute_input": "2025-06-10T17:23:07.943174Z",
     "iopub.status.busy": "2025-06-10T17:23:07.942989Z",
     "iopub.status.idle": "2025-06-10T17:23:13.053589Z",
     "shell.execute_reply": "2025-06-10T17:23:13.052553Z",
     "shell.execute_reply.started": "2025-06-10T17:23:07.943159Z"
    },
    "jupyter": {
     "outputs_hidden": false
    },
    "trusted": true
   },
   "outputs": [],
   "source": [
    "max_rating =max(rating_df[\"rating\"])"
   ]
  },
  {
   "cell_type": "code",
   "execution_count": 11,
   "metadata": {
    "_cell_guid": "600d9b49-947d-41b2-8350-92ab7f688827",
    "_uuid": "b51a821e-6202-4a2b-9e35-57a92a179c50",
    "collapsed": false,
    "execution": {
     "iopub.execute_input": "2025-06-10T17:23:13.054741Z",
     "iopub.status.busy": "2025-06-10T17:23:13.054460Z",
     "iopub.status.idle": "2025-06-10T17:23:13.074450Z",
     "shell.execute_reply": "2025-06-10T17:23:13.073792Z",
     "shell.execute_reply.started": "2025-06-10T17:23:13.054719Z"
    },
    "jupyter": {
     "outputs_hidden": false
    },
    "trusted": true
   },
   "outputs": [
    {
     "data": {
      "text/plain": [
       "10"
      ]
     },
     "execution_count": 11,
     "metadata": {},
     "output_type": "execute_result"
    }
   ],
   "source": [
    "max_rating"
   ]
  },
  {
   "cell_type": "code",
   "execution_count": 12,
   "metadata": {
    "_cell_guid": "601b1390-97fd-437b-b22c-f6c1773c64a7",
    "_uuid": "dbc7ca94-51d8-41c9-a8aa-6d4a3c2a76ec",
    "collapsed": false,
    "execution": {
     "iopub.execute_input": "2025-06-10T17:23:13.075551Z",
     "iopub.status.busy": "2025-06-10T17:23:13.075227Z",
     "iopub.status.idle": "2025-06-10T17:23:13.207170Z",
     "shell.execute_reply": "2025-06-10T17:23:13.206470Z",
     "shell.execute_reply.started": "2025-06-10T17:23:13.075526Z"
    },
    "jupyter": {
     "outputs_hidden": false
    },
    "trusted": true
   },
   "outputs": [],
   "source": [
    "avg_rating =np.mean(rating_df[\"rating\"])"
   ]
  },
  {
   "cell_type": "code",
   "execution_count": 13,
   "metadata": {
    "_cell_guid": "32dcc5ba-5cd5-45e6-9fc6-21955e4674d0",
    "_uuid": "12224766-8331-45b8-9172-c17d591aa6c4",
    "collapsed": false,
    "execution": {
     "iopub.execute_input": "2025-06-10T17:23:13.210195Z",
     "iopub.status.busy": "2025-06-10T17:23:13.209978Z",
     "iopub.status.idle": "2025-06-10T17:23:13.214870Z",
     "shell.execute_reply": "2025-06-10T17:23:13.214244Z",
     "shell.execute_reply.started": "2025-06-10T17:23:13.210178Z"
    },
    "jupyter": {
     "outputs_hidden": false
    },
    "trusted": true
   },
   "outputs": [
    {
     "data": {
      "text/plain": [
       "4.047793589172629"
      ]
     },
     "execution_count": 13,
     "metadata": {},
     "output_type": "execute_result"
    }
   ],
   "source": [
    "avg_rating"
   ]
  },
  {
   "cell_type": "code",
   "execution_count": 14,
   "metadata": {
    "_cell_guid": "79e32762-61fb-41f6-8a37-2f4889d7179d",
    "_uuid": "8447ca72-4100-4b26-9378-3b7f49f812c5",
    "collapsed": false,
    "execution": {
     "iopub.execute_input": "2025-06-10T17:23:13.215930Z",
     "iopub.status.busy": "2025-06-10T17:23:13.215602Z",
     "iopub.status.idle": "2025-06-10T17:23:30.813736Z",
     "shell.execute_reply": "2025-06-10T17:23:30.813157Z",
     "shell.execute_reply.started": "2025-06-10T17:23:13.215882Z"
    },
    "jupyter": {
     "outputs_hidden": false
    },
    "trusted": true
   },
   "outputs": [],
   "source": [
    "# Normalize ratings to 0-1 scale using min-max normalization\n",
    "rating_df[\"rating\"] = rating_df[\"rating\"].apply(lambda x: (x-min_rating)/(max_rating-min_rating)).values.astype(np.float64)"
   ]
  },
  {
   "cell_type": "code",
   "execution_count": 15,
   "metadata": {
    "_cell_guid": "939c4325-424d-446a-8500-d5207451e9a4",
    "_uuid": "ff6f4797-aac8-41e7-859a-43a323e55cb2",
    "collapsed": false,
    "execution": {
     "iopub.execute_input": "2025-06-10T17:23:30.814876Z",
     "iopub.status.busy": "2025-06-10T17:23:30.814668Z",
     "iopub.status.idle": "2025-06-10T17:23:48.629883Z",
     "shell.execute_reply": "2025-06-10T17:23:48.629220Z",
     "shell.execute_reply.started": "2025-06-10T17:23:30.814860Z"
    },
    "jupyter": {
     "outputs_hidden": false
    },
    "trusted": true
   },
   "outputs": [
    {
     "data": {
      "text/plain": [
       "1"
      ]
     },
     "execution_count": 15,
     "metadata": {},
     "output_type": "execute_result"
    }
   ],
   "source": [
    "rating_df.duplicated().sum()"
   ]
  },
  {
   "cell_type": "code",
   "execution_count": 16,
   "metadata": {
    "_cell_guid": "8dbed67b-bca1-435a-9514-a5c9de68bbfb",
    "_uuid": "16e52bcb-e85d-4be6-af30-8bd0e68fc484",
    "collapsed": false,
    "execution": {
     "iopub.execute_input": "2025-06-10T17:23:48.630802Z",
     "iopub.status.busy": "2025-06-10T17:23:48.630561Z",
     "iopub.status.idle": "2025-06-10T17:23:49.004857Z",
     "shell.execute_reply": "2025-06-10T17:23:49.004253Z",
     "shell.execute_reply.started": "2025-06-10T17:23:48.630785Z"
    },
    "jupyter": {
     "outputs_hidden": false
    },
    "trusted": true
   },
   "outputs": [
    {
     "data": {
      "text/plain": [
       "user_id     0\n",
       "anime_id    0\n",
       "rating      0\n",
       "dtype: int64"
      ]
     },
     "execution_count": 16,
     "metadata": {},
     "output_type": "execute_result"
    }
   ],
   "source": [
    "rating_df.isnull().sum()"
   ]
  },
  {
   "cell_type": "code",
   "execution_count": 17,
   "metadata": {
    "_cell_guid": "33a28ba6-19c7-446e-ae5e-502d04fb0df5",
    "_uuid": "b8aaf660-2e1b-40be-9a60-001560b64ef1",
    "collapsed": false,
    "execution": {
     "iopub.execute_input": "2025-06-10T17:23:49.005765Z",
     "iopub.status.busy": "2025-06-10T17:23:49.005571Z",
     "iopub.status.idle": "2025-06-10T17:23:50.481769Z",
     "shell.execute_reply": "2025-06-10T17:23:50.481206Z",
     "shell.execute_reply.started": "2025-06-10T17:23:49.005750Z"
    },
    "jupyter": {
     "outputs_hidden": false
    },
    "trusted": true
   },
   "outputs": [],
   "source": [
    "# Create mappings between original user IDs and encoded indices for embedding layers\n",
    "user_ids = rating_df[\"user_id\"].unique().tolist()\n",
    "user2user_encoded = {x : i for i , x in enumerate(user_ids)}\n",
    "user2user_decoded = {i : x for i , x in enumerate(user_ids)}\n",
    "rating_df[\"user\"] = rating_df[\"user_id\"].map(user2user_encoded)"
   ]
  },
  {
   "cell_type": "code",
   "execution_count": 18,
   "metadata": {
    "_cell_guid": "fc11e4a6-7f9a-463a-876f-966857421294",
    "_uuid": "7fe5f3e2-555b-4641-9649-b1cc4de0da80",
    "collapsed": false,
    "execution": {
     "iopub.execute_input": "2025-06-10T17:23:50.482690Z",
     "iopub.status.busy": "2025-06-10T17:23:50.482440Z",
     "iopub.status.idle": "2025-06-10T17:23:50.486226Z",
     "shell.execute_reply": "2025-06-10T17:23:50.485697Z",
     "shell.execute_reply.started": "2025-06-10T17:23:50.482668Z"
    },
    "jupyter": {
     "outputs_hidden": false
    },
    "trusted": true
   },
   "outputs": [],
   "source": [
    "n_users = len(user2user_encoded)"
   ]
  },
  {
   "cell_type": "code",
   "execution_count": 19,
   "metadata": {
    "_cell_guid": "947581d5-0a03-4bcc-8202-fa86e0259e70",
    "_uuid": "1d0031c0-33e4-4139-a28c-44f672462e57",
    "collapsed": false,
    "execution": {
     "iopub.execute_input": "2025-06-10T17:23:50.487174Z",
     "iopub.status.busy": "2025-06-10T17:23:50.486956Z",
     "iopub.status.idle": "2025-06-10T17:23:50.504009Z",
     "shell.execute_reply": "2025-06-10T17:23:50.503488Z",
     "shell.execute_reply.started": "2025-06-10T17:23:50.487158Z"
    },
    "jupyter": {
     "outputs_hidden": false
    },
    "trusted": true
   },
   "outputs": [
    {
     "data": {
      "text/plain": [
       "91641"
      ]
     },
     "execution_count": 19,
     "metadata": {},
     "output_type": "execute_result"
    }
   ],
   "source": [
    "n_users"
   ]
  },
  {
   "cell_type": "code",
   "execution_count": 20,
   "metadata": {
    "_cell_guid": "d0e39ea0-f206-403e-b047-8341e2fedc83",
    "_uuid": "cb70f9a6-094b-44c4-a79c-2a97b22d93b4",
    "collapsed": false,
    "execution": {
     "iopub.execute_input": "2025-06-10T17:23:50.504931Z",
     "iopub.status.busy": "2025-06-10T17:23:50.504632Z",
     "iopub.status.idle": "2025-06-10T17:23:50.518427Z",
     "shell.execute_reply": "2025-06-10T17:23:50.517489Z",
     "shell.execute_reply.started": "2025-06-10T17:23:50.504915Z"
    },
    "jupyter": {
     "outputs_hidden": false
    },
    "trusted": true
   },
   "outputs": [],
   "source": [
    "## 11054 : 12  -> user2user encoded\n",
    "## 12 : 11054 ---> usser2userdecocded"
   ]
  },
  {
   "cell_type": "code",
   "execution_count": 21,
   "metadata": {
    "_cell_guid": "0d4cdf41-e069-488d-99be-4db81cca2f97",
    "_uuid": "fe41ed98-fd5b-4a84-8b2a-92e95195fca3",
    "collapsed": false,
    "execution": {
     "iopub.execute_input": "2025-06-10T17:23:50.519265Z",
     "iopub.status.busy": "2025-06-10T17:23:50.519055Z",
     "iopub.status.idle": "2025-06-10T17:23:52.073285Z",
     "shell.execute_reply": "2025-06-10T17:23:52.072696Z",
     "shell.execute_reply.started": "2025-06-10T17:23:50.519250Z"
    },
    "jupyter": {
     "outputs_hidden": false
    },
    "trusted": true
   },
   "outputs": [],
   "source": [
    "# Create mappings between original anime IDs and encoded indices for embedding layers\n",
    "anime_ids = rating_df[\"anime_id\"].unique().tolist()\n",
    "anime2anime_encoded = {x : i for i , x in enumerate(anime_ids)}\n",
    "anime2anime_decoded = {i : x for i , x in enumerate(anime_ids)}\n",
    "rating_df[\"anime\"] = rating_df[\"anime_id\"].map(anime2anime_encoded)"
   ]
  },
  {
   "cell_type": "code",
   "execution_count": 22,
   "metadata": {
    "_cell_guid": "8de9793e-0061-4768-b669-149efda7d6c5",
    "_uuid": "5bf0c475-5321-48f8-b208-fa471edf4181",
    "collapsed": false,
    "execution": {
     "iopub.execute_input": "2025-06-10T17:23:52.074203Z",
     "iopub.status.busy": "2025-06-10T17:23:52.074005Z",
     "iopub.status.idle": "2025-06-10T17:23:52.077779Z",
     "shell.execute_reply": "2025-06-10T17:23:52.077097Z",
     "shell.execute_reply.started": "2025-06-10T17:23:52.074186Z"
    },
    "jupyter": {
     "outputs_hidden": false
    },
    "trusted": true
   },
   "outputs": [],
   "source": [
    "n_anime = len(anime2anime_encoded)"
   ]
  },
  {
   "cell_type": "code",
   "execution_count": 23,
   "metadata": {
    "_cell_guid": "07a2caf2-4a35-4f33-9bcb-6c581bf9690a",
    "_uuid": "7feed52f-0646-41d0-927b-109ba4a2a35b",
    "collapsed": false,
    "execution": {
     "iopub.execute_input": "2025-06-10T17:23:52.078740Z",
     "iopub.status.busy": "2025-06-10T17:23:52.078494Z",
     "iopub.status.idle": "2025-06-10T17:23:52.095882Z",
     "shell.execute_reply": "2025-06-10T17:23:52.095228Z",
     "shell.execute_reply.started": "2025-06-10T17:23:52.078717Z"
    },
    "jupyter": {
     "outputs_hidden": false
    },
    "trusted": true
   },
   "outputs": [
    {
     "data": {
      "text/plain": [
       "17560"
      ]
     },
     "execution_count": 23,
     "metadata": {},
     "output_type": "execute_result"
    }
   ],
   "source": [
    "n_anime"
   ]
  },
  {
   "cell_type": "code",
   "execution_count": 24,
   "metadata": {
    "_cell_guid": "6606a4ca-11cf-4fcc-9909-7ecb52cd5d60",
    "_uuid": "e780a042-faa3-46c3-9c08-8ce3a0e58b8d",
    "collapsed": false,
    "execution": {
     "iopub.execute_input": "2025-06-10T17:23:52.096780Z",
     "iopub.status.busy": "2025-06-10T17:23:52.096574Z",
     "iopub.status.idle": "2025-06-10T17:24:06.689812Z",
     "shell.execute_reply": "2025-06-10T17:24:06.689241Z",
     "shell.execute_reply.started": "2025-06-10T17:23:52.096767Z"
    },
    "jupyter": {
     "outputs_hidden": false
    },
    "trusted": true
   },
   "outputs": [],
   "source": [
    "# Shuffle the dataset randomly to ensure unbiased train/test split\n",
    "rating_df = rating_df.sample(frac=1,random_state=43).reset_index(drop=True)"
   ]
  },
  {
   "cell_type": "code",
   "execution_count": 25,
   "metadata": {
    "_cell_guid": "356230a3-c0ee-4aa6-8506-eae7dbdb9a51",
    "_uuid": "3eb3be36-3ddc-4e38-9d21-fb4035c239fe",
    "collapsed": false,
    "execution": {
     "iopub.execute_input": "2025-06-10T17:24:06.690870Z",
     "iopub.status.busy": "2025-06-10T17:24:06.690621Z",
     "iopub.status.idle": "2025-06-10T17:24:06.699526Z",
     "shell.execute_reply": "2025-06-10T17:24:06.698761Z",
     "shell.execute_reply.started": "2025-06-10T17:24:06.690847Z"
    },
    "jupyter": {
     "outputs_hidden": false
    },
    "trusted": true
   },
   "outputs": [
    {
     "data": {
      "text/html": [
       "<div>\n",
       "<style scoped>\n",
       "    .dataframe tbody tr th:only-of-type {\n",
       "        vertical-align: middle;\n",
       "    }\n",
       "\n",
       "    .dataframe tbody tr th {\n",
       "        vertical-align: top;\n",
       "    }\n",
       "\n",
       "    .dataframe thead th {\n",
       "        text-align: right;\n",
       "    }\n",
       "</style>\n",
       "<table border=\"1\" class=\"dataframe\">\n",
       "  <thead>\n",
       "    <tr style=\"text-align: right;\">\n",
       "      <th></th>\n",
       "      <th>user_id</th>\n",
       "      <th>anime_id</th>\n",
       "      <th>rating</th>\n",
       "      <th>user</th>\n",
       "      <th>anime</th>\n",
       "    </tr>\n",
       "  </thead>\n",
       "  <tbody>\n",
       "    <tr>\n",
       "      <th>0</th>\n",
       "      <td>191596</td>\n",
       "      <td>27787</td>\n",
       "      <td>0.0</td>\n",
       "      <td>49525</td>\n",
       "      <td>1955</td>\n",
       "    </tr>\n",
       "    <tr>\n",
       "      <th>1</th>\n",
       "      <td>32036</td>\n",
       "      <td>4187</td>\n",
       "      <td>0.0</td>\n",
       "      <td>8217</td>\n",
       "      <td>6628</td>\n",
       "    </tr>\n",
       "  </tbody>\n",
       "</table>\n",
       "</div>"
      ],
      "text/plain": [
       "   user_id  anime_id  rating   user  anime\n",
       "0   191596     27787     0.0  49525   1955\n",
       "1    32036      4187     0.0   8217   6628"
      ]
     },
     "execution_count": 25,
     "metadata": {},
     "output_type": "execute_result"
    }
   ],
   "source": [
    "rating_df.head(2)"
   ]
  },
  {
   "cell_type": "code",
   "execution_count": 26,
   "metadata": {
    "_cell_guid": "c74ff32e-bb69-49cb-b045-dd6081106fca",
    "_uuid": "6883b03d-84b5-4766-b834-a73c59f1e4b5",
    "collapsed": false,
    "execution": {
     "iopub.execute_input": "2025-06-10T17:24:06.700743Z",
     "iopub.status.busy": "2025-06-10T17:24:06.700458Z",
     "iopub.status.idle": "2025-06-10T17:24:07.074878Z",
     "shell.execute_reply": "2025-06-10T17:24:07.074065Z",
     "shell.execute_reply.started": "2025-06-10T17:24:06.700719Z"
    },
    "jupyter": {
     "outputs_hidden": false
    },
    "trusted": true
   },
   "outputs": [],
   "source": [
    "# Prepare features (user and anime IDs) and target variable (ratings)\n",
    "X = rating_df[[\"user\",\"anime\"]].values\n",
    "y = rating_df[\"rating\"]"
   ]
  },
  {
   "cell_type": "code",
   "execution_count": 27,
   "metadata": {
    "_cell_guid": "e9f111bf-14c0-46d0-8158-12c7d6bccc35",
    "_uuid": "f518f640-d94f-4de5-bc58-ed31e5bb5711",
    "collapsed": false,
    "execution": {
     "iopub.execute_input": "2025-06-10T17:24:07.075932Z",
     "iopub.status.busy": "2025-06-10T17:24:07.075695Z",
     "iopub.status.idle": "2025-06-10T17:24:07.079564Z",
     "shell.execute_reply": "2025-06-10T17:24:07.078992Z",
     "shell.execute_reply.started": "2025-06-10T17:24:07.075911Z"
    },
    "jupyter": {
     "outputs_hidden": false
    },
    "trusted": true
   },
   "outputs": [],
   "source": [
    "test_size = 1000\n",
    "train_indices = rating_df.shape[0] - test_size"
   ]
  },
  {
   "cell_type": "code",
   "execution_count": 28,
   "metadata": {
    "_cell_guid": "d2170ca0-99a0-4238-83e8-5da29c772c61",
    "_uuid": "97618a94-81fa-44e7-a013-ffc4f13f5db1",
    "collapsed": false,
    "execution": {
     "iopub.execute_input": "2025-06-10T17:24:07.080475Z",
     "iopub.status.busy": "2025-06-10T17:24:07.080270Z",
     "iopub.status.idle": "2025-06-10T17:24:07.096569Z",
     "shell.execute_reply": "2025-06-10T17:24:07.095952Z",
     "shell.execute_reply.started": "2025-06-10T17:24:07.080460Z"
    },
    "jupyter": {
     "outputs_hidden": false
    },
    "trusted": true
   },
   "outputs": [],
   "source": [
    "# Split data into training and testing sets (last 1000 samples for testing)\n",
    "X_train , X_test , y_train , y_test = (\n",
    "    X[:train_indices],\n",
    "    X[train_indices :],\n",
    "    y[:train_indices],\n",
    "    y[train_indices:],\n",
    ")"
   ]
  },
  {
   "cell_type": "code",
   "execution_count": 29,
   "metadata": {
    "_cell_guid": "93e4a390-0ead-4daa-8ffe-d433e89aa609",
    "_uuid": "aa9a1bc9-0994-46b5-a188-2e1a7c43921b",
    "collapsed": false,
    "execution": {
     "iopub.execute_input": "2025-06-10T17:24:07.097622Z",
     "iopub.status.busy": "2025-06-10T17:24:07.097408Z",
     "iopub.status.idle": "2025-06-10T17:24:07.114572Z",
     "shell.execute_reply": "2025-06-10T17:24:07.113809Z",
     "shell.execute_reply.started": "2025-06-10T17:24:07.097599Z"
    },
    "jupyter": {
     "outputs_hidden": false
    },
    "trusted": true
   },
   "outputs": [
    {
     "data": {
      "text/plain": [
       "(71417114, 1000, 71417114, 1000)"
      ]
     },
     "execution_count": 29,
     "metadata": {},
     "output_type": "execute_result"
    }
   ],
   "source": [
    "len(X_train),len(X_test),len(y_train),len(y_test)"
   ]
  },
  {
   "cell_type": "code",
   "execution_count": 30,
   "metadata": {
    "_cell_guid": "a5f8fc83-27fa-4d92-a46d-f0bcd821c030",
    "_uuid": "c3eed3dd-009e-4472-aefb-d47e44562b3a",
    "collapsed": false,
    "execution": {
     "iopub.execute_input": "2025-06-10T17:24:07.115457Z",
     "iopub.status.busy": "2025-06-10T17:24:07.115200Z",
     "iopub.status.idle": "2025-06-10T17:24:07.131277Z",
     "shell.execute_reply": "2025-06-10T17:24:07.130714Z",
     "shell.execute_reply.started": "2025-06-10T17:24:07.115436Z"
    },
    "jupyter": {
     "outputs_hidden": false
    },
    "trusted": true
   },
   "outputs": [
    {
     "data": {
      "text/plain": [
       "numpy.ndarray"
      ]
     },
     "execution_count": 30,
     "metadata": {},
     "output_type": "execute_result"
    }
   ],
   "source": [
    "type(X_train)"
   ]
  },
  {
   "cell_type": "code",
   "execution_count": 31,
   "metadata": {
    "_cell_guid": "f6b58367-d3a8-4aa6-81b7-0467c5e49c11",
    "_uuid": "b4c51001-4b05-4584-9a14-85b9fb9b77d9",
    "collapsed": false,
    "execution": {
     "iopub.execute_input": "2025-06-10T17:24:07.138533Z",
     "iopub.status.busy": "2025-06-10T17:24:07.138294Z",
     "iopub.status.idle": "2025-06-10T17:24:07.145953Z",
     "shell.execute_reply": "2025-06-10T17:24:07.145399Z",
     "shell.execute_reply.started": "2025-06-10T17:24:07.138518Z"
    },
    "jupyter": {
     "outputs_hidden": false
    },
    "trusted": true
   },
   "outputs": [],
   "source": [
    "# Restructure input arrays to separate user and anime features for the model\n",
    "X_train_array = [X_train[: , 0] , X_train[: ,1]]\n",
    "X_test_array = [X_test[: , 0] , X_test[: ,1]]"
   ]
  },
  {
   "cell_type": "code",
   "execution_count": 32,
   "metadata": {
    "_cell_guid": "cdf4eabc-2618-4c4d-9649-e7318b8b1a5f",
    "_uuid": "4e73f6fd-31c3-4d0b-8e0a-87b4bb30db61",
    "collapsed": false,
    "execution": {
     "iopub.execute_input": "2025-06-10T17:24:07.146785Z",
     "iopub.status.busy": "2025-06-10T17:24:07.146568Z",
     "iopub.status.idle": "2025-06-10T17:24:07.161591Z",
     "shell.execute_reply": "2025-06-10T17:24:07.160729Z",
     "shell.execute_reply.started": "2025-06-10T17:24:07.146769Z"
    },
    "jupyter": {
     "outputs_hidden": false
    },
    "trusted": true
   },
   "outputs": [
    {
     "data": {
      "text/plain": [
       "list"
      ]
     },
     "execution_count": 32,
     "metadata": {},
     "output_type": "execute_result"
    }
   ],
   "source": [
    "type(X_train_array)"
   ]
  },
  {
   "cell_type": "code",
   "execution_count": 33,
   "metadata": {
    "_cell_guid": "c78fbad9-e7fc-4a3c-8f3d-fe29fe3244cf",
    "_uuid": "9f732e25-b307-4e7c-a8c4-c5132caf3e30",
    "collapsed": false,
    "execution": {
     "iopub.execute_input": "2025-06-10T17:24:07.162841Z",
     "iopub.status.busy": "2025-06-10T17:24:07.162578Z",
     "iopub.status.idle": "2025-06-10T17:24:07.176799Z",
     "shell.execute_reply": "2025-06-10T17:24:07.176183Z",
     "shell.execute_reply.started": "2025-06-10T17:24:07.162818Z"
    },
    "jupyter": {
     "outputs_hidden": false
    },
    "trusted": true
   },
   "outputs": [
    {
     "data": {
      "text/plain": [
       "numpy.ndarray"
      ]
     },
     "execution_count": 33,
     "metadata": {},
     "output_type": "execute_result"
    }
   ],
   "source": [
    "type(X_test_array[0])"
   ]
  },
  {
   "cell_type": "markdown",
   "metadata": {
    "_cell_guid": "5f645c3f-fddb-4584-9806-0bc706e17fd4",
    "_uuid": "9b37af85-f04c-4396-9b85-03fdc2a6309d",
    "collapsed": false,
    "jupyter": {
     "outputs_hidden": false
    },
    "trusted": true
   },
   "source": [
    "#### MODEL ARCHITECTURE"
   ]
  },
  {
   "cell_type": "code",
   "execution_count": 34,
   "metadata": {
    "_cell_guid": "022cac46-9e5a-47a9-ae1a-ba6c566717b8",
    "_uuid": "552eae3b-abd7-4e16-b6d1-326255d50f86",
    "collapsed": false,
    "execution": {
     "iopub.execute_input": "2025-06-10T17:24:07.177892Z",
     "iopub.status.busy": "2025-06-10T17:24:07.177688Z",
     "iopub.status.idle": "2025-06-10T17:24:07.191668Z",
     "shell.execute_reply": "2025-06-10T17:24:07.191058Z",
     "shell.execute_reply.started": "2025-06-10T17:24:07.177877Z"
    },
    "jupyter": {
     "outputs_hidden": false
    },
    "trusted": true
   },
   "outputs": [],
   "source": [
    "# Define neural collaborative filtering model with user and anime embeddings\n",
    "def RecommenderNet():\n",
    "    embedding_size =128\n",
    "\n",
    "    user = Input(name=\"user\",shape=[1])\n",
    "\n",
    "    user_embedding = Embedding(name=\"user_embedding\",input_dim=n_users,output_dim=embedding_size)(user)\n",
    "\n",
    "    anime = Input(name=\"anime\",shape=[1])\n",
    "\n",
    "    anime_embedding = Embedding(name=\"anime_embedding\",input_dim=n_anime,output_dim=embedding_size)(anime)\n",
    "\n",
    "    x = Dot(name=\"dot_product\" , normalize=True , axes=2)([user_embedding,anime_embedding])\n",
    "\n",
    "    x = Flatten()(x)\n",
    "\n",
    "    x = Dense(1,kernel_initializer='he_normal')(x)\n",
    "    x = BatchNormalization()(x)\n",
    "    x = Activation(\"sigmoid\")(x)\n",
    "\n",
    "    model = Model(inputs=[user,anime], outputs=x)\n",
    "    model.compile(loss=\"binary_crossentropy\",metrics=[\"mae\",\"mse\"],optimizer='Adam')\n",
    "    return model"
   ]
  },
  {
   "cell_type": "code",
   "execution_count": 35,
   "metadata": {
    "_cell_guid": "36b009d6-9794-4d21-b52f-4c9924fbfea8",
    "_uuid": "bb2e2570-b236-4caf-9e23-b608717445ee",
    "collapsed": false,
    "execution": {
     "iopub.execute_input": "2025-06-10T17:24:07.192571Z",
     "iopub.status.busy": "2025-06-10T17:24:07.192277Z",
     "iopub.status.idle": "2025-06-10T17:24:09.902579Z",
     "shell.execute_reply": "2025-06-10T17:24:09.901741Z",
     "shell.execute_reply.started": "2025-06-10T17:24:07.192546Z"
    },
    "jupyter": {
     "outputs_hidden": false
    },
    "trusted": true
   },
   "outputs": [
    {
     "name": "stderr",
     "output_type": "stream",
     "text": [
      "I0000 00:00:1749576248.534655      35 gpu_device.cc:2022] Created device /job:localhost/replica:0/task:0/device:GPU:0 with 15513 MB memory:  -> device: 0, name: Tesla P100-PCIE-16GB, pci bus id: 0000:00:04.0, compute capability: 6.0\n"
     ]
    }
   ],
   "source": [
    "model = RecommenderNet()"
   ]
  },
  {
   "cell_type": "code",
   "execution_count": 36,
   "metadata": {
    "_cell_guid": "d875322d-6e7e-457b-8873-fd2b3acb0b3e",
    "_uuid": "a1ed8733-c927-4489-928e-37654aa4ecd8",
    "collapsed": false,
    "execution": {
     "iopub.execute_input": "2025-06-10T17:24:09.903724Z",
     "iopub.status.busy": "2025-06-10T17:24:09.903466Z",
     "iopub.status.idle": "2025-06-10T17:24:09.924581Z",
     "shell.execute_reply": "2025-06-10T17:24:09.923998Z",
     "shell.execute_reply.started": "2025-06-10T17:24:09.903702Z"
    },
    "jupyter": {
     "outputs_hidden": false
    },
    "trusted": true
   },
   "outputs": [
    {
     "data": {
      "text/html": [
       "<pre style=\"white-space:pre;overflow-x:auto;line-height:normal;font-family:Menlo,'DejaVu Sans Mono',consolas,'Courier New',monospace\"><span style=\"font-weight: bold\">Model: \"functional\"</span>\n",
       "</pre>\n"
      ],
      "text/plain": [
       "\u001b[1mModel: \"functional\"\u001b[0m\n"
      ]
     },
     "metadata": {},
     "output_type": "display_data"
    },
    {
     "data": {
      "text/html": [
       "<pre style=\"white-space:pre;overflow-x:auto;line-height:normal;font-family:Menlo,'DejaVu Sans Mono',consolas,'Courier New',monospace\">┏━━━━━━━━━━━━━━━━━━━━━━━━━━━┳━━━━━━━━━━━━━━━━━━━━━━━━┳━━━━━━━━━━━━━━━━┳━━━━━━━━━━━━━━━━━━━━━━━━┓\n",
       "┃<span style=\"font-weight: bold\"> Layer (type)              </span>┃<span style=\"font-weight: bold\"> Output Shape           </span>┃<span style=\"font-weight: bold\">        Param # </span>┃<span style=\"font-weight: bold\"> Connected to           </span>┃\n",
       "┡━━━━━━━━━━━━━━━━━━━━━━━━━━━╇━━━━━━━━━━━━━━━━━━━━━━━━╇━━━━━━━━━━━━━━━━╇━━━━━━━━━━━━━━━━━━━━━━━━┩\n",
       "│ user (<span style=\"color: #0087ff; text-decoration-color: #0087ff\">InputLayer</span>)         │ (<span style=\"color: #00d7ff; text-decoration-color: #00d7ff\">None</span>, <span style=\"color: #00af00; text-decoration-color: #00af00\">1</span>)              │              <span style=\"color: #00af00; text-decoration-color: #00af00\">0</span> │ -                      │\n",
       "├───────────────────────────┼────────────────────────┼────────────────┼────────────────────────┤\n",
       "│ anime (<span style=\"color: #0087ff; text-decoration-color: #0087ff\">InputLayer</span>)        │ (<span style=\"color: #00d7ff; text-decoration-color: #00d7ff\">None</span>, <span style=\"color: #00af00; text-decoration-color: #00af00\">1</span>)              │              <span style=\"color: #00af00; text-decoration-color: #00af00\">0</span> │ -                      │\n",
       "├───────────────────────────┼────────────────────────┼────────────────┼────────────────────────┤\n",
       "│ user_embedding            │ (<span style=\"color: #00d7ff; text-decoration-color: #00d7ff\">None</span>, <span style=\"color: #00af00; text-decoration-color: #00af00\">1</span>, <span style=\"color: #00af00; text-decoration-color: #00af00\">128</span>)         │     <span style=\"color: #00af00; text-decoration-color: #00af00\">11,730,048</span> │ user[<span style=\"color: #00af00; text-decoration-color: #00af00\">0</span>][<span style=\"color: #00af00; text-decoration-color: #00af00\">0</span>]             │\n",
       "│ (<span style=\"color: #0087ff; text-decoration-color: #0087ff\">Embedding</span>)               │                        │                │                        │\n",
       "├───────────────────────────┼────────────────────────┼────────────────┼────────────────────────┤\n",
       "│ anime_embedding           │ (<span style=\"color: #00d7ff; text-decoration-color: #00d7ff\">None</span>, <span style=\"color: #00af00; text-decoration-color: #00af00\">1</span>, <span style=\"color: #00af00; text-decoration-color: #00af00\">128</span>)         │      <span style=\"color: #00af00; text-decoration-color: #00af00\">2,247,680</span> │ anime[<span style=\"color: #00af00; text-decoration-color: #00af00\">0</span>][<span style=\"color: #00af00; text-decoration-color: #00af00\">0</span>]            │\n",
       "│ (<span style=\"color: #0087ff; text-decoration-color: #0087ff\">Embedding</span>)               │                        │                │                        │\n",
       "├───────────────────────────┼────────────────────────┼────────────────┼────────────────────────┤\n",
       "│ dot_product (<span style=\"color: #0087ff; text-decoration-color: #0087ff\">Dot</span>)         │ (<span style=\"color: #00d7ff; text-decoration-color: #00d7ff\">None</span>, <span style=\"color: #00af00; text-decoration-color: #00af00\">1</span>, <span style=\"color: #00af00; text-decoration-color: #00af00\">1</span>)           │              <span style=\"color: #00af00; text-decoration-color: #00af00\">0</span> │ user_embedding[<span style=\"color: #00af00; text-decoration-color: #00af00\">0</span>][<span style=\"color: #00af00; text-decoration-color: #00af00\">0</span>],  │\n",
       "│                           │                        │                │ anime_embedding[<span style=\"color: #00af00; text-decoration-color: #00af00\">0</span>][<span style=\"color: #00af00; text-decoration-color: #00af00\">0</span>]  │\n",
       "├───────────────────────────┼────────────────────────┼────────────────┼────────────────────────┤\n",
       "│ flatten (<span style=\"color: #0087ff; text-decoration-color: #0087ff\">Flatten</span>)         │ (<span style=\"color: #00d7ff; text-decoration-color: #00d7ff\">None</span>, <span style=\"color: #00af00; text-decoration-color: #00af00\">1</span>)              │              <span style=\"color: #00af00; text-decoration-color: #00af00\">0</span> │ dot_product[<span style=\"color: #00af00; text-decoration-color: #00af00\">0</span>][<span style=\"color: #00af00; text-decoration-color: #00af00\">0</span>]      │\n",
       "├───────────────────────────┼────────────────────────┼────────────────┼────────────────────────┤\n",
       "│ dense (<span style=\"color: #0087ff; text-decoration-color: #0087ff\">Dense</span>)             │ (<span style=\"color: #00d7ff; text-decoration-color: #00d7ff\">None</span>, <span style=\"color: #00af00; text-decoration-color: #00af00\">1</span>)              │              <span style=\"color: #00af00; text-decoration-color: #00af00\">2</span> │ flatten[<span style=\"color: #00af00; text-decoration-color: #00af00\">0</span>][<span style=\"color: #00af00; text-decoration-color: #00af00\">0</span>]          │\n",
       "├───────────────────────────┼────────────────────────┼────────────────┼────────────────────────┤\n",
       "│ batch_normalization       │ (<span style=\"color: #00d7ff; text-decoration-color: #00d7ff\">None</span>, <span style=\"color: #00af00; text-decoration-color: #00af00\">1</span>)              │              <span style=\"color: #00af00; text-decoration-color: #00af00\">4</span> │ dense[<span style=\"color: #00af00; text-decoration-color: #00af00\">0</span>][<span style=\"color: #00af00; text-decoration-color: #00af00\">0</span>]            │\n",
       "│ (<span style=\"color: #0087ff; text-decoration-color: #0087ff\">BatchNormalization</span>)      │                        │                │                        │\n",
       "├───────────────────────────┼────────────────────────┼────────────────┼────────────────────────┤\n",
       "│ activation (<span style=\"color: #0087ff; text-decoration-color: #0087ff\">Activation</span>)   │ (<span style=\"color: #00d7ff; text-decoration-color: #00d7ff\">None</span>, <span style=\"color: #00af00; text-decoration-color: #00af00\">1</span>)              │              <span style=\"color: #00af00; text-decoration-color: #00af00\">0</span> │ batch_normalization[<span style=\"color: #00af00; text-decoration-color: #00af00\">0</span>… │\n",
       "└───────────────────────────┴────────────────────────┴────────────────┴────────────────────────┘\n",
       "</pre>\n"
      ],
      "text/plain": [
       "┏━━━━━━━━━━━━━━━━━━━━━━━━━━━┳━━━━━━━━━━━━━━━━━━━━━━━━┳━━━━━━━━━━━━━━━━┳━━━━━━━━━━━━━━━━━━━━━━━━┓\n",
       "┃\u001b[1m \u001b[0m\u001b[1mLayer (type)             \u001b[0m\u001b[1m \u001b[0m┃\u001b[1m \u001b[0m\u001b[1mOutput Shape          \u001b[0m\u001b[1m \u001b[0m┃\u001b[1m \u001b[0m\u001b[1m       Param #\u001b[0m\u001b[1m \u001b[0m┃\u001b[1m \u001b[0m\u001b[1mConnected to          \u001b[0m\u001b[1m \u001b[0m┃\n",
       "┡━━━━━━━━━━━━━━━━━━━━━━━━━━━╇━━━━━━━━━━━━━━━━━━━━━━━━╇━━━━━━━━━━━━━━━━╇━━━━━━━━━━━━━━━━━━━━━━━━┩\n",
       "│ user (\u001b[38;5;33mInputLayer\u001b[0m)         │ (\u001b[38;5;45mNone\u001b[0m, \u001b[38;5;34m1\u001b[0m)              │              \u001b[38;5;34m0\u001b[0m │ -                      │\n",
       "├───────────────────────────┼────────────────────────┼────────────────┼────────────────────────┤\n",
       "│ anime (\u001b[38;5;33mInputLayer\u001b[0m)        │ (\u001b[38;5;45mNone\u001b[0m, \u001b[38;5;34m1\u001b[0m)              │              \u001b[38;5;34m0\u001b[0m │ -                      │\n",
       "├───────────────────────────┼────────────────────────┼────────────────┼────────────────────────┤\n",
       "│ user_embedding            │ (\u001b[38;5;45mNone\u001b[0m, \u001b[38;5;34m1\u001b[0m, \u001b[38;5;34m128\u001b[0m)         │     \u001b[38;5;34m11,730,048\u001b[0m │ user[\u001b[38;5;34m0\u001b[0m][\u001b[38;5;34m0\u001b[0m]             │\n",
       "│ (\u001b[38;5;33mEmbedding\u001b[0m)               │                        │                │                        │\n",
       "├───────────────────────────┼────────────────────────┼────────────────┼────────────────────────┤\n",
       "│ anime_embedding           │ (\u001b[38;5;45mNone\u001b[0m, \u001b[38;5;34m1\u001b[0m, \u001b[38;5;34m128\u001b[0m)         │      \u001b[38;5;34m2,247,680\u001b[0m │ anime[\u001b[38;5;34m0\u001b[0m][\u001b[38;5;34m0\u001b[0m]            │\n",
       "│ (\u001b[38;5;33mEmbedding\u001b[0m)               │                        │                │                        │\n",
       "├───────────────────────────┼────────────────────────┼────────────────┼────────────────────────┤\n",
       "│ dot_product (\u001b[38;5;33mDot\u001b[0m)         │ (\u001b[38;5;45mNone\u001b[0m, \u001b[38;5;34m1\u001b[0m, \u001b[38;5;34m1\u001b[0m)           │              \u001b[38;5;34m0\u001b[0m │ user_embedding[\u001b[38;5;34m0\u001b[0m][\u001b[38;5;34m0\u001b[0m],  │\n",
       "│                           │                        │                │ anime_embedding[\u001b[38;5;34m0\u001b[0m][\u001b[38;5;34m0\u001b[0m]  │\n",
       "├───────────────────────────┼────────────────────────┼────────────────┼────────────────────────┤\n",
       "│ flatten (\u001b[38;5;33mFlatten\u001b[0m)         │ (\u001b[38;5;45mNone\u001b[0m, \u001b[38;5;34m1\u001b[0m)              │              \u001b[38;5;34m0\u001b[0m │ dot_product[\u001b[38;5;34m0\u001b[0m][\u001b[38;5;34m0\u001b[0m]      │\n",
       "├───────────────────────────┼────────────────────────┼────────────────┼────────────────────────┤\n",
       "│ dense (\u001b[38;5;33mDense\u001b[0m)             │ (\u001b[38;5;45mNone\u001b[0m, \u001b[38;5;34m1\u001b[0m)              │              \u001b[38;5;34m2\u001b[0m │ flatten[\u001b[38;5;34m0\u001b[0m][\u001b[38;5;34m0\u001b[0m]          │\n",
       "├───────────────────────────┼────────────────────────┼────────────────┼────────────────────────┤\n",
       "│ batch_normalization       │ (\u001b[38;5;45mNone\u001b[0m, \u001b[38;5;34m1\u001b[0m)              │              \u001b[38;5;34m4\u001b[0m │ dense[\u001b[38;5;34m0\u001b[0m][\u001b[38;5;34m0\u001b[0m]            │\n",
       "│ (\u001b[38;5;33mBatchNormalization\u001b[0m)      │                        │                │                        │\n",
       "├───────────────────────────┼────────────────────────┼────────────────┼────────────────────────┤\n",
       "│ activation (\u001b[38;5;33mActivation\u001b[0m)   │ (\u001b[38;5;45mNone\u001b[0m, \u001b[38;5;34m1\u001b[0m)              │              \u001b[38;5;34m0\u001b[0m │ batch_normalization[\u001b[38;5;34m0\u001b[0m… │\n",
       "└───────────────────────────┴────────────────────────┴────────────────┴────────────────────────┘\n"
      ]
     },
     "metadata": {},
     "output_type": "display_data"
    },
    {
     "data": {
      "text/html": [
       "<pre style=\"white-space:pre;overflow-x:auto;line-height:normal;font-family:Menlo,'DejaVu Sans Mono',consolas,'Courier New',monospace\"><span style=\"font-weight: bold\"> Total params: </span><span style=\"color: #00af00; text-decoration-color: #00af00\">13,977,734</span> (53.32 MB)\n",
       "</pre>\n"
      ],
      "text/plain": [
       "\u001b[1m Total params: \u001b[0m\u001b[38;5;34m13,977,734\u001b[0m (53.32 MB)\n"
      ]
     },
     "metadata": {},
     "output_type": "display_data"
    },
    {
     "data": {
      "text/html": [
       "<pre style=\"white-space:pre;overflow-x:auto;line-height:normal;font-family:Menlo,'DejaVu Sans Mono',consolas,'Courier New',monospace\"><span style=\"font-weight: bold\"> Trainable params: </span><span style=\"color: #00af00; text-decoration-color: #00af00\">13,977,732</span> (53.32 MB)\n",
       "</pre>\n"
      ],
      "text/plain": [
       "\u001b[1m Trainable params: \u001b[0m\u001b[38;5;34m13,977,732\u001b[0m (53.32 MB)\n"
      ]
     },
     "metadata": {},
     "output_type": "display_data"
    },
    {
     "data": {
      "text/html": [
       "<pre style=\"white-space:pre;overflow-x:auto;line-height:normal;font-family:Menlo,'DejaVu Sans Mono',consolas,'Courier New',monospace\"><span style=\"font-weight: bold\"> Non-trainable params: </span><span style=\"color: #00af00; text-decoration-color: #00af00\">2</span> (8.00 B)\n",
       "</pre>\n"
      ],
      "text/plain": [
       "\u001b[1m Non-trainable params: \u001b[0m\u001b[38;5;34m2\u001b[0m (8.00 B)\n"
      ]
     },
     "metadata": {},
     "output_type": "display_data"
    }
   ],
   "source": [
    "model.summary()"
   ]
  },
  {
   "cell_type": "code",
   "execution_count": 37,
   "metadata": {
    "_cell_guid": "7f0cae22-8f33-4204-a211-cee8102942b3",
    "_uuid": "a8f71fee-07c0-4f71-bfad-75c50b71de43",
    "collapsed": false,
    "execution": {
     "iopub.execute_input": "2025-06-10T17:24:09.925648Z",
     "iopub.status.busy": "2025-06-10T17:24:09.925439Z",
     "iopub.status.idle": "2025-06-10T17:24:09.930668Z",
     "shell.execute_reply": "2025-06-10T17:24:09.929998Z",
     "shell.execute_reply.started": "2025-06-10T17:24:09.925632Z"
    },
    "jupyter": {
     "outputs_hidden": false
    },
    "trusted": true
   },
   "outputs": [],
   "source": [
    "# Define learning rate schedule with warmup, sustain, and exponential decay phases\n",
    "start_lr = 0.00001\n",
    "min_lr = 0.0001\n",
    "max_lr = 0.00005\n",
    "batch_size = 10000\n",
    "\n",
    "ramup_epochs = 5\n",
    "sustain_epochs = 0\n",
    "exp_decay = 0.8\n",
    "\n",
    "def lrfn(epoch):\n",
    "    if epoch<ramup_epochs:\n",
    "        return (max_lr-start_lr)/ramup_epochs*epoch + start_lr\n",
    "    elif epoch<ramup_epochs+sustain_epochs:\n",
    "        return max_lr\n",
    "    else:\n",
    "        return (max_lr-min_lr) * exp_decay ** (epoch-ramup_epochs-sustain_epochs)+min_lr"
   ]
  },
  {
   "cell_type": "code",
   "execution_count": 38,
   "metadata": {
    "_cell_guid": "5fc143d4-f660-46f7-b680-3898319e9d9b",
    "_uuid": "8c947079-483a-41e6-afb9-dcbc58f8cc9a",
    "collapsed": false,
    "execution": {
     "iopub.execute_input": "2025-06-10T17:24:09.931464Z",
     "iopub.status.busy": "2025-06-10T17:24:09.931255Z",
     "iopub.status.idle": "2025-06-10T17:24:09.947057Z",
     "shell.execute_reply": "2025-06-10T17:24:09.946096Z",
     "shell.execute_reply.started": "2025-06-10T17:24:09.931449Z"
    },
    "jupyter": {
     "outputs_hidden": false
    },
    "trusted": true
   },
   "outputs": [],
   "source": [
    "# Setup callbacks for learning rate scheduling, model checkpointing, and early stopping\n",
    "lr_callback = LearningRateScheduler(lambda epoch:lrfn(epoch) , verbose=0)\n",
    "checkpoint_filepath = './weights.weights.h5'\n",
    "\n",
    "model_checkpoint = ModelCheckpoint(filepath=checkpoint_filepath,save_weights_only=True,monitor=\"val_loss\",mode=\"min\",save_best_only=True)\n",
    "\n",
    "early_stopping = EarlyStopping(patience=3,monitor=\"val_loss\",mode=\"min\",restore_best_weights=True)"
   ]
  },
  {
   "cell_type": "code",
   "execution_count": 39,
   "metadata": {
    "_cell_guid": "b55c5f9f-8815-4764-953e-fa4302d6de42",
    "_uuid": "3a259aed-7826-49eb-9803-2640f71b948b",
    "collapsed": false,
    "execution": {
     "iopub.execute_input": "2025-06-10T17:24:09.948127Z",
     "iopub.status.busy": "2025-06-10T17:24:09.947860Z",
     "iopub.status.idle": "2025-06-10T17:24:09.964068Z",
     "shell.execute_reply": "2025-06-10T17:24:09.963376Z",
     "shell.execute_reply.started": "2025-06-10T17:24:09.948101Z"
    },
    "jupyter": {
     "outputs_hidden": false
    },
    "trusted": true
   },
   "outputs": [],
   "source": [
    "my_callbacks = [model_checkpoint,lr_callback,early_stopping]"
   ]
  },
  {
   "cell_type": "code",
   "execution_count": 40,
   "metadata": {
    "_cell_guid": "0f0c40b5-d618-4199-8115-c36b0a9eab23",
    "_uuid": "67d53c51-7c3a-47ea-bca1-351ecbf6edb9",
    "collapsed": false,
    "execution": {
     "iopub.execute_input": "2025-06-10T17:24:09.965129Z",
     "iopub.status.busy": "2025-06-10T17:24:09.964877Z",
     "iopub.status.idle": "2025-06-10T17:32:10.770312Z",
     "shell.execute_reply": "2025-06-10T17:32:10.769713Z",
     "shell.execute_reply.started": "2025-06-10T17:24:09.965114Z"
    },
    "jupyter": {
     "outputs_hidden": false
    },
    "trusted": true
   },
   "outputs": [
    {
     "name": "stdout",
     "output_type": "stream",
     "text": [
      "Epoch 1/20\n"
     ]
    },
    {
     "name": "stderr",
     "output_type": "stream",
     "text": [
      "WARNING: All log messages before absl::InitializeLog() is called are written to STDERR\n",
      "I0000 00:00:1749576261.350656      98 service.cc:148] XLA service 0x7f2b4000b8a0 initialized for platform CUDA (this does not guarantee that XLA will be used). Devices:\n",
      "I0000 00:00:1749576261.351478      98 service.cc:156]   StreamExecutor device (0): Tesla P100-PCIE-16GB, Compute Capability 6.0\n",
      "I0000 00:00:1749576261.638084      98 cuda_dnn.cc:529] Loaded cuDNN version 90300\n"
     ]
    },
    {
     "name": "stdout",
     "output_type": "stream",
     "text": [
      "\u001b[1m  40/7142\u001b[0m \u001b[37m━━━━━━━━━━━━━━━━━━━━\u001b[0m \u001b[1m28s\u001b[0m 4ms/step - loss: 0.7959 - mae: 0.3830 - mse: 0.1973"
     ]
    },
    {
     "name": "stderr",
     "output_type": "stream",
     "text": [
      "I0000 00:00:1749576262.398905      98 device_compiler.h:188] Compiled cluster using XLA!  This line is logged at most once for the lifetime of the process.\n"
     ]
    },
    {
     "name": "stdout",
     "output_type": "stream",
     "text": [
      "\u001b[1m7142/7142\u001b[0m \u001b[32m━━━━━━━━━━━━━━━━━━━━\u001b[0m\u001b[37m\u001b[0m \u001b[1m39s\u001b[0m 4ms/step - loss: 0.7911 - mae: 0.3826 - mse: 0.1959 - val_loss: 0.7867 - val_mae: 0.3881 - val_mse: 0.1950 - learning_rate: 1.0000e-05\n",
      "Epoch 2/20\n",
      "\u001b[1m7142/7142\u001b[0m \u001b[32m━━━━━━━━━━━━━━━━━━━━\u001b[0m\u001b[37m\u001b[0m \u001b[1m35s\u001b[0m 4ms/step - loss: 0.7609 - mae: 0.3751 - mse: 0.1844 - val_loss: 0.7333 - val_mae: 0.3708 - val_mse: 0.1732 - learning_rate: 1.8000e-05\n",
      "Epoch 3/20\n",
      "\u001b[1m7142/7142\u001b[0m \u001b[32m━━━━━━━━━━━━━━━━━━━━\u001b[0m\u001b[37m\u001b[0m \u001b[1m34s\u001b[0m 4ms/step - loss: 0.6706 - mae: 0.3358 - mse: 0.1457 - val_loss: 0.5982 - val_mae: 0.2904 - val_mse: 0.1129 - learning_rate: 2.6000e-05\n",
      "Epoch 4/20\n",
      "\u001b[1m7142/7142\u001b[0m \u001b[32m━━━━━━━━━━━━━━━━━━━━\u001b[0m\u001b[37m\u001b[0m \u001b[1m34s\u001b[0m 4ms/step - loss: 0.5687 - mae: 0.2724 - mse: 0.1012 - val_loss: 0.5546 - val_mae: 0.2523 - val_mse: 0.0950 - learning_rate: 3.4000e-05\n",
      "Epoch 5/20\n",
      "\u001b[1m7142/7142\u001b[0m \u001b[32m━━━━━━━━━━━━━━━━━━━━\u001b[0m\u001b[37m\u001b[0m \u001b[1m34s\u001b[0m 4ms/step - loss: 0.5315 - mae: 0.2400 - mse: 0.0869 - val_loss: 0.5284 - val_mae: 0.2261 - val_mse: 0.0850 - learning_rate: 4.2000e-05\n",
      "Epoch 6/20\n",
      "\u001b[1m7142/7142\u001b[0m \u001b[32m━━━━━━━━━━━━━━━━━━━━\u001b[0m\u001b[37m\u001b[0m \u001b[1m34s\u001b[0m 4ms/step - loss: 0.5066 - mae: 0.2155 - mse: 0.0779 - val_loss: 0.5114 - val_mae: 0.2075 - val_mse: 0.0783 - learning_rate: 5.0000e-05\n",
      "Epoch 7/20\n",
      "\u001b[1m7142/7142\u001b[0m \u001b[32m━━━━━━━━━━━━━━━━━━━━\u001b[0m\u001b[37m\u001b[0m \u001b[1m34s\u001b[0m 4ms/step - loss: 0.4892 - mae: 0.1985 - mse: 0.0720 - val_loss: 0.5055 - val_mae: 0.1986 - val_mse: 0.0761 - learning_rate: 6.0000e-05\n",
      "Epoch 8/20\n",
      "\u001b[1m7142/7142\u001b[0m \u001b[32m━━━━━━━━━━━━━━━━━━━━\u001b[0m\u001b[37m\u001b[0m \u001b[1m34s\u001b[0m 4ms/step - loss: 0.4767 - mae: 0.1876 - mse: 0.0675 - val_loss: 0.5016 - val_mae: 0.1962 - val_mse: 0.0753 - learning_rate: 6.8000e-05\n",
      "Epoch 9/20\n",
      "\u001b[1m7142/7142\u001b[0m \u001b[32m━━━━━━━━━━━━━━━━━━━━\u001b[0m\u001b[37m\u001b[0m \u001b[1m33s\u001b[0m 4ms/step - loss: 0.4668 - mae: 0.1800 - mse: 0.0638 - val_loss: 0.5019 - val_mae: 0.1939 - val_mse: 0.0755 - learning_rate: 7.4400e-05\n",
      "Epoch 10/20\n",
      "\u001b[1m7142/7142\u001b[0m \u001b[32m━━━━━━━━━━━━━━━━━━━━\u001b[0m\u001b[37m\u001b[0m \u001b[1m33s\u001b[0m 4ms/step - loss: 0.4587 - mae: 0.1739 - mse: 0.0607 - val_loss: 0.5037 - val_mae: 0.1929 - val_mse: 0.0762 - learning_rate: 7.9520e-05\n",
      "Epoch 11/20\n",
      "\u001b[1m7142/7142\u001b[0m \u001b[32m━━━━━━━━━━━━━━━━━━━━\u001b[0m\u001b[37m\u001b[0m \u001b[1m34s\u001b[0m 4ms/step - loss: 0.4519 - mae: 0.1689 - mse: 0.0582 - val_loss: 0.5006 - val_mae: 0.1902 - val_mse: 0.0750 - learning_rate: 8.3616e-05\n",
      "Epoch 12/20\n",
      "\u001b[1m7142/7142\u001b[0m \u001b[32m━━━━━━━━━━━━━━━━━━━━\u001b[0m\u001b[37m\u001b[0m \u001b[1m33s\u001b[0m 4ms/step - loss: 0.4463 - mae: 0.1648 - mse: 0.0561 - val_loss: 0.5036 - val_mae: 0.1914 - val_mse: 0.0758 - learning_rate: 8.6893e-05\n",
      "Epoch 13/20\n",
      "\u001b[1m7142/7142\u001b[0m \u001b[32m━━━━━━━━━━━━━━━━━━━━\u001b[0m\u001b[37m\u001b[0m \u001b[1m33s\u001b[0m 4ms/step - loss: 0.4417 - mae: 0.1613 - mse: 0.0544 - val_loss: 0.5024 - val_mae: 0.1895 - val_mse: 0.0755 - learning_rate: 8.9514e-05\n",
      "Epoch 14/20\n",
      "\u001b[1m7142/7142\u001b[0m \u001b[32m━━━━━━━━━━━━━━━━━━━━\u001b[0m\u001b[37m\u001b[0m \u001b[1m33s\u001b[0m 4ms/step - loss: 0.4377 - mae: 0.1584 - mse: 0.0529 - val_loss: 0.5036 - val_mae: 0.1881 - val_mse: 0.0754 - learning_rate: 9.1611e-05\n"
     ]
    }
   ],
   "source": [
    "# Train the recommendation model with validation and callbacks\n",
    "history = model.fit(\n",
    "    x=X_train_array,\n",
    "    y=y_train,\n",
    "    batch_size=batch_size,\n",
    "    epochs=20,\n",
    "    verbose=1,\n",
    "    validation_data = (X_test_array,y_test),\n",
    "    callbacks=my_callbacks\n",
    ")"
   ]
  },
  {
   "cell_type": "code",
   "execution_count": 41,
   "metadata": {
    "_cell_guid": "31fab721-376a-41ca-855a-5835f62d0a47",
    "_uuid": "71eee2c2-d678-4e31-a985-66f3f9f49b28",
    "collapsed": false,
    "execution": {
     "iopub.execute_input": "2025-06-10T17:32:10.771629Z",
     "iopub.status.busy": "2025-06-10T17:32:10.771417Z",
     "iopub.status.idle": "2025-06-10T17:32:11.096616Z",
     "shell.execute_reply": "2025-06-10T17:32:11.095856Z",
     "shell.execute_reply.started": "2025-06-10T17:32:10.771614Z"
    },
    "jupyter": {
     "outputs_hidden": false
    },
    "trusted": true
   },
   "outputs": [],
   "source": [
    "model.load_weights(checkpoint_filepath)"
   ]
  },
  {
   "cell_type": "code",
   "execution_count": 42,
   "metadata": {
    "_cell_guid": "bfee10da-42bd-4e17-a9b0-dede5cab38db",
    "_uuid": "55f96325-3516-4db7-bb14-02fc2a1ad411",
    "collapsed": false,
    "execution": {
     "iopub.execute_input": "2025-06-10T17:32:11.097716Z",
     "iopub.status.busy": "2025-06-10T17:32:11.097477Z",
     "iopub.status.idle": "2025-06-10T17:32:11.771781Z",
     "shell.execute_reply": "2025-06-10T17:32:11.771029Z",
     "shell.execute_reply.started": "2025-06-10T17:32:11.097692Z"
    },
    "jupyter": {
     "outputs_hidden": false
    },
    "trusted": true
   },
   "outputs": [
    {
     "data": {
      "image/png": "[encoded data removed]",
      "text/plain": [
       "<Figure size 800x1200 with 3 Axes>"
      ]
     },
     "metadata": {},
     "output_type": "display_data"
    }
   ],
   "source": [
    "# Plot training and validation metrics to visualize model performance\n",
    "metrics = [\"loss\", \"mae\", \"mse\"]\n",
    "\n",
    "# Create subplots\n",
    "fig, axes = plt.subplots(len(metrics), 1, figsize=(8, len(metrics) * 4))\n",
    "\n",
    "for i, metric in enumerate(metrics):\n",
    "    ax = axes[i]\n",
    "    ax.plot(history.history[metric][0:-2], marker=\"o\", label=f\"train {metric}\")\n",
    "    ax.plot(history.history[f\"val_{metric}\"][0:-2], marker=\"o\", label=f\"test {metric}\")\n",
    "    ax.set_title(f\"Model {metric.capitalize()}\")\n",
    "    ax.set_ylabel(metric.capitalize())\n",
    "    ax.set_xlabel(\"Epoch\")\n",
    "    ax.legend(loc=\"upper left\")\n",
    "    ax.grid(True)\n",
    "\n",
    "plt.tight_layout()\n",
    "plt.show()"
   ]
  },
  {
   "cell_type": "code",
   "execution_count": 43,
   "metadata": {
    "_cell_guid": "067927cf-69f0-4419-91c0-13c7b7be83cc",
    "_uuid": "851073f7-1707-4e3c-8c28-a8b0b72afd52",
    "collapsed": false,
    "execution": {
     "iopub.execute_input": "2025-06-10T17:32:11.772713Z",
     "iopub.status.busy": "2025-06-10T17:32:11.772526Z",
     "iopub.status.idle": "2025-06-10T17:32:11.776836Z",
     "shell.execute_reply": "2025-06-10T17:32:11.776050Z",
     "shell.execute_reply.started": "2025-06-10T17:32:11.772699Z"
    },
    "jupyter": {
     "outputs_hidden": false
    },
    "trusted": true
   },
   "outputs": [],
   "source": [
    "# Extract and normalize embedding weights for similarity calculations\n",
    "def extract_weights(name,model):\n",
    "    weight_layer = model.get_layer(name)\n",
    "    weights = weight_layer.get_weights()[0]\n",
    "    weights = weights/np.linalg.norm(weights,axis=1).reshape((-1,1))\n",
    "    return weights"
   ]
  },
  {
   "cell_type": "code",
   "execution_count": 44,
   "metadata": {
    "_cell_guid": "ccc9f56d-335f-4152-b809-5abf83acd3ce",
    "_uuid": "b1419199-5571-4a8f-82da-ff72ddc18493",
    "collapsed": false,
    "execution": {
     "iopub.execute_input": "2025-06-10T17:32:11.777791Z",
     "iopub.status.busy": "2025-06-10T17:32:11.777604Z",
     "iopub.status.idle": "2025-06-10T17:32:11.838834Z",
     "shell.execute_reply": "2025-06-10T17:32:11.838236Z",
     "shell.execute_reply.started": "2025-06-10T17:32:11.777775Z"
    },
    "jupyter": {
     "outputs_hidden": false
    },
    "trusted": true
   },
   "outputs": [],
   "source": [
    "anime_weights = extract_weights(\"anime_embedding\",model)"
   ]
  },
  {
   "cell_type": "code",
   "execution_count": 45,
   "metadata": {
    "_cell_guid": "c4ddd659-bff8-4d49-882f-05cbb47d8702",
    "_uuid": "6c7aba28-17b5-4624-b15f-5169739c13f0",
    "collapsed": false,
    "execution": {
     "iopub.execute_input": "2025-06-10T17:32:11.839850Z",
     "iopub.status.busy": "2025-06-10T17:32:11.839593Z",
     "iopub.status.idle": "2025-06-10T17:32:11.939508Z",
     "shell.execute_reply": "2025-06-10T17:32:11.938703Z",
     "shell.execute_reply.started": "2025-06-10T17:32:11.839827Z"
    },
    "jupyter": {
     "outputs_hidden": false
    },
    "trusted": true
   },
   "outputs": [],
   "source": [
    "user_weights = extract_weights(\"user_embedding\",model)"
   ]
  },
  {
   "cell_type": "markdown",
   "metadata": {
    "_cell_guid": "6ca8dafe-c511-447a-8fec-a895bbf091d0",
    "_uuid": "76e0611b-f26b-4f43-8935-d267968de783",
    "collapsed": false,
    "jupyter": {
     "outputs_hidden": false
    },
    "trusted": true
   },
   "source": [
    "#### READING ANIME.CSV"
   ]
  },
  {
   "cell_type": "code",
   "execution_count": 46,
   "metadata": {
    "_cell_guid": "14d3fe0d-5fbb-4430-b15d-ebb6ddd8c83c",
    "_uuid": "cc55f532-5cf5-48d0-98c5-d2ef5db976d4",
    "collapsed": false,
    "execution": {
     "iopub.execute_input": "2025-06-10T17:32:11.940689Z",
     "iopub.status.busy": "2025-06-10T17:32:11.940336Z",
     "iopub.status.idle": "2025-06-10T17:32:12.167537Z",
     "shell.execute_reply": "2025-06-10T17:32:12.166916Z",
     "shell.execute_reply.started": "2025-06-10T17:32:11.940659Z"
    },
    "jupyter": {
     "outputs_hidden": false
    },
    "trusted": true
   },
   "outputs": [
    {
     "data": {
      "text/html": [
       "<div>\n",
       "<style scoped>\n",
       "    .dataframe tbody tr th:only-of-type {\n",
       "        vertical-align: middle;\n",
       "    }\n",
       "\n",
       "    .dataframe tbody tr th {\n",
       "        vertical-align: top;\n",
       "    }\n",
       "\n",
       "    .dataframe thead th {\n",
       "        text-align: right;\n",
       "    }\n",
       "</style>\n",
       "<table border=\"1\" class=\"dataframe\">\n",
       "  <thead>\n",
       "    <tr style=\"text-align: right;\">\n",
       "      <th></th>\n",
       "      <th>MAL_ID</th>\n",
       "      <th>Name</th>\n",
       "      <th>Score</th>\n",
       "      <th>Genres</th>\n",
       "      <th>English name</th>\n",
       "      <th>Japanese name</th>\n",
       "      <th>Type</th>\n",
       "      <th>Episodes</th>\n",
       "      <th>Aired</th>\n",
       "      <th>Premiered</th>\n",
       "      <th>...</th>\n",
       "      <th>Score-10</th>\n",
       "      <th>Score-9</th>\n",
       "      <th>Score-8</th>\n",
       "      <th>Score-7</th>\n",
       "      <th>Score-6</th>\n",
       "      <th>Score-5</th>\n",
       "      <th>Score-4</th>\n",
       "      <th>Score-3</th>\n",
       "      <th>Score-2</th>\n",
       "      <th>Score-1</th>\n",
       "    </tr>\n",
       "  </thead>\n",
       "  <tbody>\n",
       "    <tr>\n",
       "      <th>0</th>\n",
       "      <td>1</td>\n",
       "      <td>Cowboy Bebop</td>\n",
       "      <td>8.78</td>\n",
       "      <td>Action, Adventure, Comedy, Drama, Sci-Fi, Space</td>\n",
       "      <td>Cowboy Bebop</td>\n",
       "      <td>カウボーイビバップ</td>\n",
       "      <td>TV</td>\n",
       "      <td>26</td>\n",
       "      <td>Apr 3, 1998 to Apr 24, 1999</td>\n",
       "      <td>Spring 1998</td>\n",
       "      <td>...</td>\n",
       "      <td>229170.0</td>\n",
       "      <td>182126.0</td>\n",
       "      <td>131625.0</td>\n",
       "      <td>62330.0</td>\n",
       "      <td>20688.0</td>\n",
       "      <td>8904.0</td>\n",
       "      <td>3184.0</td>\n",
       "      <td>1357.0</td>\n",
       "      <td>741.0</td>\n",
       "      <td>1580.0</td>\n",
       "    </tr>\n",
       "    <tr>\n",
       "      <th>1</th>\n",
       "      <td>5</td>\n",
       "      <td>Cowboy Bebop: Tengoku no Tobira</td>\n",
       "      <td>8.39</td>\n",
       "      <td>Action, Drama, Mystery, Sci-Fi, Space</td>\n",
       "      <td>Cowboy Bebop:The Movie</td>\n",
       "      <td>カウボーイビバップ 天国の扉</td>\n",
       "      <td>Movie</td>\n",
       "      <td>1</td>\n",
       "      <td>Sep 1, 2001</td>\n",
       "      <td>Unknown</td>\n",
       "      <td>...</td>\n",
       "      <td>30043.0</td>\n",
       "      <td>49201.0</td>\n",
       "      <td>49505.0</td>\n",
       "      <td>22632.0</td>\n",
       "      <td>5805.0</td>\n",
       "      <td>1877.0</td>\n",
       "      <td>577.0</td>\n",
       "      <td>221.0</td>\n",
       "      <td>109.0</td>\n",
       "      <td>379.0</td>\n",
       "    </tr>\n",
       "  </tbody>\n",
       "</table>\n",
       "<p>2 rows × 35 columns</p>\n",
       "</div>"
      ],
      "text/plain": [
       "   MAL_ID                             Name Score  \\\n",
       "0       1                     Cowboy Bebop  8.78   \n",
       "1       5  Cowboy Bebop: Tengoku no Tobira  8.39   \n",
       "\n",
       "                                            Genres            English name  \\\n",
       "0  Action, Adventure, Comedy, Drama, Sci-Fi, Space            Cowboy Bebop   \n",
       "1            Action, Drama, Mystery, Sci-Fi, Space  Cowboy Bebop:The Movie   \n",
       "\n",
       "    Japanese name   Type Episodes                        Aired    Premiered  \\\n",
       "0       カウボーイビバップ     TV       26  Apr 3, 1998 to Apr 24, 1999  Spring 1998   \n",
       "1  カウボーイビバップ 天国の扉  Movie        1                  Sep 1, 2001      Unknown   \n",
       "\n",
       "   ...  Score-10   Score-9   Score-8  Score-7  Score-6 Score-5 Score-4  \\\n",
       "0  ...  229170.0  182126.0  131625.0  62330.0  20688.0  8904.0  3184.0   \n",
       "1  ...   30043.0   49201.0   49505.0  22632.0   5805.0  1877.0   577.0   \n",
       "\n",
       "   Score-3  Score-2  Score-1  \n",
       "0   1357.0    741.0   1580.0  \n",
       "1    221.0    109.0    379.0  \n",
       "\n",
       "[2 rows x 35 columns]"
      ]
     },
     "execution_count": 46,
     "metadata": {},
     "output_type": "execute_result"
    }
   ],
   "source": [
    "# Load anime metadata including titles, genres, and scores\n",
    "df = pd.read_csv(INPUT_DIR+\"/anime.csv\",low_memory=True)\n",
    "df.head(2)"
   ]
  },
  {
   "cell_type": "code",
   "execution_count": 47,
   "metadata": {
    "_cell_guid": "5ae27d8b-ef3f-4004-932a-b8a3770fc08c",
    "_uuid": "d74b0d6f-ec11-48be-be63-3465b895f1d1",
    "collapsed": false,
    "execution": {
     "iopub.execute_input": "2025-06-10T17:32:12.168548Z",
     "iopub.status.busy": "2025-06-10T17:32:12.168305Z",
     "iopub.status.idle": "2025-06-10T17:32:12.205768Z",
     "shell.execute_reply": "2025-06-10T17:32:12.205117Z",
     "shell.execute_reply.started": "2025-06-10T17:32:12.168532Z"
    },
    "jupyter": {
     "outputs_hidden": false
    },
    "trusted": true
   },
   "outputs": [],
   "source": [
    "df = df.replace(\"Unknown\",np.nan)"
   ]
  },
  {
   "cell_type": "code",
   "execution_count": 48,
   "metadata": {
    "_cell_guid": "7e38d908-7bad-4314-adb4-b12cfa663298",
    "_uuid": "57d05ce2-f019-4c00-95a6-c6c8a4c76af5",
    "collapsed": false,
    "execution": {
     "iopub.execute_input": "2025-06-10T17:32:12.206817Z",
     "iopub.status.busy": "2025-06-10T17:32:12.206545Z",
     "iopub.status.idle": "2025-06-10T17:32:12.211163Z",
     "shell.execute_reply": "2025-06-10T17:32:12.210390Z",
     "shell.execute_reply.started": "2025-06-10T17:32:12.206797Z"
    },
    "jupyter": {
     "outputs_hidden": false
    },
    "trusted": true
   },
   "outputs": [],
   "source": [
    "# Get anime name, preferring English version if available, fallback to original name\n",
    "def getAnimeName(anime_id):\n",
    "    try:\n",
    "        name = df[df.anime_id == anime_id].eng_version.values[0]\n",
    "        if name is np.nan:\n",
    "            name = df[df.anime_id == anime_id].Name.values[0]\n",
    "    except:\n",
    "        print(\"Error\")\n",
    "    return name"
   ]
  },
  {
   "cell_type": "code",
   "execution_count": 49,
   "metadata": {
    "_cell_guid": "150c7d3a-7615-44fa-ab87-2f15985bb8ca",
    "_uuid": "3627b9f7-1d3d-4d5c-b3cb-ceb03ecd2921",
    "collapsed": false,
    "execution": {
     "iopub.execute_input": "2025-06-10T17:32:12.212272Z",
     "iopub.status.busy": "2025-06-10T17:32:12.212013Z",
     "iopub.status.idle": "2025-06-10T17:32:20.038900Z",
     "shell.execute_reply": "2025-06-10T17:32:20.038108Z",
     "shell.execute_reply.started": "2025-06-10T17:32:12.212255Z"
    },
    "jupyter": {
     "outputs_hidden": false
    },
    "trusted": true
   },
   "outputs": [],
   "source": [
    "# Standardize column names and populate English versions for all anime\n",
    "df[\"anime_id\"] = df[\"MAL_ID\"]\n",
    "df[\"eng_version\"] = df[\"English name\"]\n",
    "df[\"eng_version\"] = df.anime_id.apply(lambda x:getAnimeName(x))"
   ]
  },
  {
   "cell_type": "code",
   "execution_count": 50,
   "metadata": {
    "_cell_guid": "44273c3d-e686-40bd-9dea-e9c97c9b8696",
    "_uuid": "59ae04b3-b782-4455-9003-f8fe915bbd16",
    "collapsed": false,
    "execution": {
     "iopub.execute_input": "2025-06-10T17:32:20.040087Z",
     "iopub.status.busy": "2025-06-10T17:32:20.039797Z",
     "iopub.status.idle": "2025-06-10T17:32:20.045544Z",
     "shell.execute_reply": "2025-06-10T17:32:20.044897Z",
     "shell.execute_reply.started": "2025-06-10T17:32:20.040070Z"
    },
    "jupyter": {
     "outputs_hidden": false
    },
    "trusted": true
   },
   "outputs": [
    {
     "data": {
      "text/plain": [
       "'Fairy Tail'"
      ]
     },
     "execution_count": 50,
     "metadata": {},
     "output_type": "execute_result"
    }
   ],
   "source": [
    "getAnimeName(6702)"
   ]
  },
  {
   "cell_type": "code",
   "execution_count": 51,
   "metadata": {
    "_cell_guid": "d0b6f16f-f95c-4292-af9d-a6490f91ffba",
    "_uuid": "f252716b-9458-4a1e-ab97-4b51a7e3520c",
    "collapsed": false,
    "execution": {
     "iopub.execute_input": "2025-06-10T17:32:20.046885Z",
     "iopub.status.busy": "2025-06-10T17:32:20.046257Z",
     "iopub.status.idle": "2025-06-10T17:32:20.082767Z",
     "shell.execute_reply": "2025-06-10T17:32:20.082220Z",
     "shell.execute_reply.started": "2025-06-10T17:32:20.046860Z"
    },
    "jupyter": {
     "outputs_hidden": false
    },
    "trusted": true
   },
   "outputs": [],
   "source": [
    "# Sort anime by score in descending order for better recommendation quality\n",
    "df.sort_values(by=[\"Score\"],\n",
    "               inplace=True,\n",
    "               ascending=False,\n",
    "               kind=\"quicksort\",\n",
    "               na_position=\"last\")"
   ]
  },
  {
   "cell_type": "code",
   "execution_count": 52,
   "metadata": {
    "_cell_guid": "15046d34-a70e-4483-8522-52e76a08c9a5",
    "_uuid": "6a19b4e4-d22e-4cab-b63d-5c001317bca1",
    "collapsed": false,
    "execution": {
     "iopub.execute_input": "2025-06-10T17:32:20.083667Z",
     "iopub.status.busy": "2025-06-10T17:32:20.083443Z",
     "iopub.status.idle": "2025-06-10T17:32:20.088573Z",
     "shell.execute_reply": "2025-06-10T17:32:20.087995Z",
     "shell.execute_reply.started": "2025-06-10T17:32:20.083643Z"
    },
    "jupyter": {
     "outputs_hidden": false
    },
    "trusted": true
   },
   "outputs": [
    {
     "data": {
      "text/plain": [
       "Index(['MAL_ID', 'Name', 'Score', 'Genres', 'English name', 'Japanese name',\n",
       "       'Type', 'Episodes', 'Aired', 'Premiered', 'Producers', 'Licensors',\n",
       "       'Studios', 'Source', 'Duration', 'Rating', 'Ranked', 'Popularity',\n",
       "       'Members', 'Favorites', 'Watching', 'Completed', 'On-Hold', 'Dropped',\n",
       "       'Plan to Watch', 'Score-10', 'Score-9', 'Score-8', 'Score-7', 'Score-6',\n",
       "       'Score-5', 'Score-4', 'Score-3', 'Score-2', 'Score-1', 'anime_id',\n",
       "       'eng_version'],\n",
       "      dtype='object')"
      ]
     },
     "execution_count": 52,
     "metadata": {},
     "output_type": "execute_result"
    }
   ],
   "source": [
    "df.columns"
   ]
  },
  {
   "cell_type": "code",
   "execution_count": 53,
   "metadata": {
    "_cell_guid": "2dc3bc1c-71fa-4a3d-8e9d-9f2451b992c4",
    "_uuid": "c0611d2a-2ddd-40cd-8663-8403811fffed",
    "collapsed": false,
    "execution": {
     "iopub.execute_input": "2025-06-10T17:32:20.089424Z",
     "iopub.status.busy": "2025-06-10T17:32:20.089200Z",
     "iopub.status.idle": "2025-06-10T17:32:20.104429Z",
     "shell.execute_reply": "2025-06-10T17:32:20.103690Z",
     "shell.execute_reply.started": "2025-06-10T17:32:20.089409Z"
    },
    "jupyter": {
     "outputs_hidden": false
    },
    "trusted": true
   },
   "outputs": [],
   "source": [
    "# Select relevant columns for recommendation analysis\n",
    "df = df[[\"anime_id\",\"eng_version\",\"Score\",\"Genres\",\"Episodes\",\"Type\",\"Premiered\",\"Members\"]]"
   ]
  },
  {
   "cell_type": "code",
   "execution_count": 54,
   "metadata": {
    "_cell_guid": "f4ef7342-dcba-4c7b-bd4c-99dc342dda2c",
    "_uuid": "5b03ceb4-db2f-4966-86fc-e3efb30a98ba",
    "collapsed": false,
    "execution": {
     "iopub.execute_input": "2025-06-10T17:32:20.105504Z",
     "iopub.status.busy": "2025-06-10T17:32:20.105276Z",
     "iopub.status.idle": "2025-06-10T17:32:20.121561Z",
     "shell.execute_reply": "2025-06-10T17:32:20.120797Z",
     "shell.execute_reply.started": "2025-06-10T17:32:20.105489Z"
    },
    "jupyter": {
     "outputs_hidden": false
    },
    "trusted": true
   },
   "outputs": [
    {
     "data": {
      "text/html": [
       "<div>\n",
       "<style scoped>\n",
       "    .dataframe tbody tr th:only-of-type {\n",
       "        vertical-align: middle;\n",
       "    }\n",
       "\n",
       "    .dataframe tbody tr th {\n",
       "        vertical-align: top;\n",
       "    }\n",
       "\n",
       "    .dataframe thead th {\n",
       "        text-align: right;\n",
       "    }\n",
       "</style>\n",
       "<table border=\"1\" class=\"dataframe\">\n",
       "  <thead>\n",
       "    <tr style=\"text-align: right;\">\n",
       "      <th></th>\n",
       "      <th>anime_id</th>\n",
       "      <th>eng_version</th>\n",
       "      <th>Score</th>\n",
       "      <th>Genres</th>\n",
       "      <th>Episodes</th>\n",
       "      <th>Type</th>\n",
       "      <th>Premiered</th>\n",
       "      <th>Members</th>\n",
       "    </tr>\n",
       "  </thead>\n",
       "  <tbody>\n",
       "    <tr>\n",
       "      <th>3971</th>\n",
       "      <td>5114</td>\n",
       "      <td>Fullmetal Alchemist:Brotherhood</td>\n",
       "      <td>9.19</td>\n",
       "      <td>Action, Military, Adventure, Comedy, Drama, Ma...</td>\n",
       "      <td>64</td>\n",
       "      <td>TV</td>\n",
       "      <td>Spring 2009</td>\n",
       "      <td>2248456</td>\n",
       "    </tr>\n",
       "    <tr>\n",
       "      <th>15926</th>\n",
       "      <td>40028</td>\n",
       "      <td>Attack on Titan Final Season</td>\n",
       "      <td>9.17</td>\n",
       "      <td>Action, Military, Mystery, Super Power, Drama,...</td>\n",
       "      <td>16</td>\n",
       "      <td>TV</td>\n",
       "      <td>Winter 2021</td>\n",
       "      <td>733260</td>\n",
       "    </tr>\n",
       "    <tr>\n",
       "      <th>5683</th>\n",
       "      <td>9253</td>\n",
       "      <td>Steins;Gate</td>\n",
       "      <td>9.11</td>\n",
       "      <td>Thriller, Sci-Fi</td>\n",
       "      <td>24</td>\n",
       "      <td>TV</td>\n",
       "      <td>Spring 2011</td>\n",
       "      <td>1771162</td>\n",
       "    </tr>\n",
       "    <tr>\n",
       "      <th>14963</th>\n",
       "      <td>38524</td>\n",
       "      <td>Attack on Titan Season 3 Part 2</td>\n",
       "      <td>9.1</td>\n",
       "      <td>Action, Drama, Fantasy, Military, Mystery, Sho...</td>\n",
       "      <td>10</td>\n",
       "      <td>TV</td>\n",
       "      <td>Spring 2019</td>\n",
       "      <td>1073626</td>\n",
       "    </tr>\n",
       "    <tr>\n",
       "      <th>9913</th>\n",
       "      <td>28977</td>\n",
       "      <td>Gintama Season 4</td>\n",
       "      <td>9.1</td>\n",
       "      <td>Action, Comedy, Historical, Parody, Samurai, S...</td>\n",
       "      <td>51</td>\n",
       "      <td>TV</td>\n",
       "      <td>Spring 2015</td>\n",
       "      <td>404121</td>\n",
       "    </tr>\n",
       "  </tbody>\n",
       "</table>\n",
       "</div>"
      ],
      "text/plain": [
       "       anime_id                      eng_version Score  \\\n",
       "3971       5114  Fullmetal Alchemist:Brotherhood  9.19   \n",
       "15926     40028     Attack on Titan Final Season  9.17   \n",
       "5683       9253                      Steins;Gate  9.11   \n",
       "14963     38524  Attack on Titan Season 3 Part 2   9.1   \n",
       "9913      28977                 Gintama Season 4   9.1   \n",
       "\n",
       "                                                  Genres Episodes Type  \\\n",
       "3971   Action, Military, Adventure, Comedy, Drama, Ma...       64   TV   \n",
       "15926  Action, Military, Mystery, Super Power, Drama,...       16   TV   \n",
       "5683                                    Thriller, Sci-Fi       24   TV   \n",
       "14963  Action, Drama, Fantasy, Military, Mystery, Sho...       10   TV   \n",
       "9913   Action, Comedy, Historical, Parody, Samurai, S...       51   TV   \n",
       "\n",
       "         Premiered  Members  \n",
       "3971   Spring 2009  2248456  \n",
       "15926  Winter 2021   733260  \n",
       "5683   Spring 2011  1771162  \n",
       "14963  Spring 2019  1073626  \n",
       "9913   Spring 2015   404121  "
      ]
     },
     "execution_count": 54,
     "metadata": {},
     "output_type": "execute_result"
    }
   ],
   "source": [
    "df.head()"
   ]
  },
  {
   "cell_type": "code",
   "execution_count": 55,
   "metadata": {
    "_cell_guid": "4f095a92-0a76-4715-9c16-61a651dae78a",
    "_uuid": "0ae569ce-6b19-4191-8a26-2fe19583add6",
    "collapsed": false,
    "execution": {
     "iopub.execute_input": "2025-06-10T17:32:20.122479Z",
     "iopub.status.busy": "2025-06-10T17:32:20.122237Z",
     "iopub.status.idle": "2025-06-10T17:32:20.133629Z",
     "shell.execute_reply": "2025-06-10T17:32:20.133098Z",
     "shell.execute_reply.started": "2025-06-10T17:32:20.122458Z"
    },
    "jupyter": {
     "outputs_hidden": false
    },
    "trusted": true
   },
   "outputs": [],
   "source": [
    "# Utility function to get anime information by ID or name\n",
    "def getAnimeFrame(anime,df):\n",
    "    if isinstance(anime,int):\n",
    "        return df[df.anime_id == anime]\n",
    "    if isinstance(anime,str):\n",
    "        return df[df.eng_version == anime]"
   ]
  },
  {
   "cell_type": "code",
   "execution_count": 56,
   "metadata": {
    "_cell_guid": "520bf807-9f61-40c5-964f-14580b95af99",
    "_uuid": "5e6cbc75-dfa6-4357-9653-63a394422d57",
    "collapsed": false,
    "execution": {
     "iopub.execute_input": "2025-06-10T17:32:20.134670Z",
     "iopub.status.busy": "2025-06-10T17:32:20.134439Z",
     "iopub.status.idle": "2025-06-10T17:32:20.152870Z",
     "shell.execute_reply": "2025-06-10T17:32:20.152392Z",
     "shell.execute_reply.started": "2025-06-10T17:32:20.134650Z"
    },
    "jupyter": {
     "outputs_hidden": false
    },
    "trusted": true
   },
   "outputs": [
    {
     "data": {
      "text/html": [
       "<div>\n",
       "<style scoped>\n",
       "    .dataframe tbody tr th:only-of-type {\n",
       "        vertical-align: middle;\n",
       "    }\n",
       "\n",
       "    .dataframe tbody tr th {\n",
       "        vertical-align: top;\n",
       "    }\n",
       "\n",
       "    .dataframe thead th {\n",
       "        text-align: right;\n",
       "    }\n",
       "</style>\n",
       "<table border=\"1\" class=\"dataframe\">\n",
       "  <thead>\n",
       "    <tr style=\"text-align: right;\">\n",
       "      <th></th>\n",
       "      <th>anime_id</th>\n",
       "      <th>eng_version</th>\n",
       "      <th>Score</th>\n",
       "      <th>Genres</th>\n",
       "      <th>Episodes</th>\n",
       "      <th>Type</th>\n",
       "      <th>Premiered</th>\n",
       "      <th>Members</th>\n",
       "    </tr>\n",
       "  </thead>\n",
       "  <tbody>\n",
       "    <tr>\n",
       "      <th>15926</th>\n",
       "      <td>40028</td>\n",
       "      <td>Attack on Titan Final Season</td>\n",
       "      <td>9.17</td>\n",
       "      <td>Action, Military, Mystery, Super Power, Drama,...</td>\n",
       "      <td>16</td>\n",
       "      <td>TV</td>\n",
       "      <td>Winter 2021</td>\n",
       "      <td>733260</td>\n",
       "    </tr>\n",
       "  </tbody>\n",
       "</table>\n",
       "</div>"
      ],
      "text/plain": [
       "       anime_id                   eng_version Score  \\\n",
       "15926     40028  Attack on Titan Final Season  9.17   \n",
       "\n",
       "                                                  Genres Episodes Type  \\\n",
       "15926  Action, Military, Mystery, Super Power, Drama,...       16   TV   \n",
       "\n",
       "         Premiered  Members  \n",
       "15926  Winter 2021   733260  "
      ]
     },
     "execution_count": 56,
     "metadata": {},
     "output_type": "execute_result"
    }
   ],
   "source": [
    "getAnimeFrame(40028 , df)"
   ]
  },
  {
   "cell_type": "code",
   "execution_count": 57,
   "metadata": {
    "_cell_guid": "69fb82c3-a360-4861-a641-2174a6cf9305",
    "_uuid": "401107d7-2989-413c-a836-604a3284163c",
    "collapsed": false,
    "execution": {
     "iopub.execute_input": "2025-06-10T17:32:20.154262Z",
     "iopub.status.busy": "2025-06-10T17:32:20.153586Z",
     "iopub.status.idle": "2025-06-10T17:32:20.174726Z",
     "shell.execute_reply": "2025-06-10T17:32:20.174204Z",
     "shell.execute_reply.started": "2025-06-10T17:32:20.154238Z"
    },
    "jupyter": {
     "outputs_hidden": false
    },
    "trusted": true
   },
   "outputs": [
    {
     "data": {
      "text/html": [
       "<div>\n",
       "<style scoped>\n",
       "    .dataframe tbody tr th:only-of-type {\n",
       "        vertical-align: middle;\n",
       "    }\n",
       "\n",
       "    .dataframe tbody tr th {\n",
       "        vertical-align: top;\n",
       "    }\n",
       "\n",
       "    .dataframe thead th {\n",
       "        text-align: right;\n",
       "    }\n",
       "</style>\n",
       "<table border=\"1\" class=\"dataframe\">\n",
       "  <thead>\n",
       "    <tr style=\"text-align: right;\">\n",
       "      <th></th>\n",
       "      <th>anime_id</th>\n",
       "      <th>eng_version</th>\n",
       "      <th>Score</th>\n",
       "      <th>Genres</th>\n",
       "      <th>Episodes</th>\n",
       "      <th>Type</th>\n",
       "      <th>Premiered</th>\n",
       "      <th>Members</th>\n",
       "    </tr>\n",
       "  </thead>\n",
       "  <tbody>\n",
       "    <tr>\n",
       "      <th>5683</th>\n",
       "      <td>9253</td>\n",
       "      <td>Steins;Gate</td>\n",
       "      <td>9.11</td>\n",
       "      <td>Thriller, Sci-Fi</td>\n",
       "      <td>24</td>\n",
       "      <td>TV</td>\n",
       "      <td>Spring 2011</td>\n",
       "      <td>1771162</td>\n",
       "    </tr>\n",
       "  </tbody>\n",
       "</table>\n",
       "</div>"
      ],
      "text/plain": [
       "      anime_id  eng_version Score            Genres Episodes Type  \\\n",
       "5683      9253  Steins;Gate  9.11  Thriller, Sci-Fi       24   TV   \n",
       "\n",
       "        Premiered  Members  \n",
       "5683  Spring 2011  1771162  "
      ]
     },
     "execution_count": 57,
     "metadata": {},
     "output_type": "execute_result"
    }
   ],
   "source": [
    "getAnimeFrame(\"Steins;Gate\",df)"
   ]
  },
  {
   "cell_type": "markdown",
   "metadata": {
    "_cell_guid": "ff1d6c53-fb89-4e20-b8b3-2a086b0fdd8b",
    "_uuid": "c07fdd5d-ad06-465d-a47c-d6344104b8b0",
    "collapsed": false,
    "jupyter": {
     "outputs_hidden": false
    },
    "trusted": true
   },
   "source": [
    "#### ANIME_WITH_SYNOPSIS.CSV"
   ]
  },
  {
   "cell_type": "code",
   "execution_count": 58,
   "metadata": {
    "_cell_guid": "388d961f-592e-4a5d-a1ea-505ee7647d82",
    "_uuid": "dd0ac1ad-0c3e-459f-88c7-fd4e35316f13",
    "collapsed": false,
    "execution": {
     "iopub.execute_input": "2025-06-10T17:32:20.175848Z",
     "iopub.status.busy": "2025-06-10T17:32:20.175410Z",
     "iopub.status.idle": "2025-06-10T17:32:20.187970Z",
     "shell.execute_reply": "2025-06-10T17:32:20.187394Z",
     "shell.execute_reply.started": "2025-06-10T17:32:20.175826Z"
    },
    "jupyter": {
     "outputs_hidden": false
    },
    "trusted": true
   },
   "outputs": [],
   "source": [
    "cols = [\"MAL_ID\",\"Name\",\"Genres\",\"sypnopsis\"]"
   ]
  },
  {
   "cell_type": "code",
   "execution_count": 59,
   "metadata": {
    "_cell_guid": "4682f981-2474-445c-b2cd-66bee1ccedbc",
    "_uuid": "13cf6e90-a39d-4c63-b8b0-e8067517ec7d",
    "collapsed": false,
    "execution": {
     "iopub.execute_input": "2025-06-10T17:32:20.188885Z",
     "iopub.status.busy": "2025-06-10T17:32:20.188708Z",
     "iopub.status.idle": "2025-06-10T17:32:20.363412Z",
     "shell.execute_reply": "2025-06-10T17:32:20.362810Z",
     "shell.execute_reply.started": "2025-06-10T17:32:20.188871Z"
    },
    "jupyter": {
     "outputs_hidden": false
    },
    "trusted": true
   },
   "outputs": [],
   "source": [
    "# Load anime synopsis data for detailed recommendations\n",
    "synopsis_df = pd.read_csv(INPUT_DIR+\"/anime_with_synopsis.csv\",usecols=cols)"
   ]
  },
  {
   "cell_type": "code",
   "execution_count": 60,
   "metadata": {
    "_cell_guid": "5aafbe58-c278-43c5-bfd4-d7ce01ecc429",
    "_uuid": "7a781702-b9f4-4bf4-bcbd-88ba80c1b1aa",
    "collapsed": false,
    "execution": {
     "iopub.execute_input": "2025-06-10T17:32:20.364275Z",
     "iopub.status.busy": "2025-06-10T17:32:20.364065Z",
     "iopub.status.idle": "2025-06-10T17:32:20.371563Z",
     "shell.execute_reply": "2025-06-10T17:32:20.370985Z",
     "shell.execute_reply.started": "2025-06-10T17:32:20.364260Z"
    },
    "jupyter": {
     "outputs_hidden": false
    },
    "trusted": true
   },
   "outputs": [
    {
     "data": {
      "text/html": [
       "<div>\n",
       "<style scoped>\n",
       "    .dataframe tbody tr th:only-of-type {\n",
       "        vertical-align: middle;\n",
       "    }\n",
       "\n",
       "    .dataframe tbody tr th {\n",
       "        vertical-align: top;\n",
       "    }\n",
       "\n",
       "    .dataframe thead th {\n",
       "        text-align: right;\n",
       "    }\n",
       "</style>\n",
       "<table border=\"1\" class=\"dataframe\">\n",
       "  <thead>\n",
       "    <tr style=\"text-align: right;\">\n",
       "      <th></th>\n",
       "      <th>MAL_ID</th>\n",
       "      <th>Name</th>\n",
       "      <th>Genres</th>\n",
       "      <th>sypnopsis</th>\n",
       "    </tr>\n",
       "  </thead>\n",
       "  <tbody>\n",
       "    <tr>\n",
       "      <th>0</th>\n",
       "      <td>1</td>\n",
       "      <td>Cowboy Bebop</td>\n",
       "      <td>Action, Adventure, Comedy, Drama, Sci-Fi, Space</td>\n",
       "      <td>In the year 2071, humanity has colonized sever...</td>\n",
       "    </tr>\n",
       "  </tbody>\n",
       "</table>\n",
       "</div>"
      ],
      "text/plain": [
       "   MAL_ID          Name                                           Genres  \\\n",
       "0       1  Cowboy Bebop  Action, Adventure, Comedy, Drama, Sci-Fi, Space   \n",
       "\n",
       "                                           sypnopsis  \n",
       "0  In the year 2071, humanity has colonized sever...  "
      ]
     },
     "execution_count": 60,
     "metadata": {},
     "output_type": "execute_result"
    }
   ],
   "source": [
    "synopsis_df.head(1)"
   ]
  },
  {
   "cell_type": "code",
   "execution_count": 61,
   "metadata": {
    "_cell_guid": "fc9c8f9d-1dca-4585-ab81-487e7630f2f2",
    "_uuid": "b801abf3-9e16-4a0b-ac77-5542a0ce6e19",
    "collapsed": false,
    "execution": {
     "iopub.execute_input": "2025-06-10T17:32:20.372606Z",
     "iopub.status.busy": "2025-06-10T17:32:20.372289Z",
     "iopub.status.idle": "2025-06-10T17:32:20.388741Z",
     "shell.execute_reply": "2025-06-10T17:32:20.388187Z",
     "shell.execute_reply.started": "2025-06-10T17:32:20.372590Z"
    },
    "jupyter": {
     "outputs_hidden": false
    },
    "trusted": true
   },
   "outputs": [
    {
     "data": {
      "text/plain": [
       "Index(['MAL_ID', 'Name', 'Genres', 'sypnopsis'], dtype='object')"
      ]
     },
     "execution_count": 61,
     "metadata": {},
     "output_type": "execute_result"
    }
   ],
   "source": [
    "synopsis_df.columns"
   ]
  },
  {
   "cell_type": "code",
   "execution_count": 62,
   "metadata": {
    "_cell_guid": "d44a4d3d-1a0c-4136-9fad-9775b06ffa43",
    "_uuid": "d99e933f-b586-45fe-b188-7f79e7c12de8",
    "collapsed": false,
    "execution": {
     "iopub.execute_input": "2025-06-10T17:32:20.389517Z",
     "iopub.status.busy": "2025-06-10T17:32:20.389324Z",
     "iopub.status.idle": "2025-06-10T17:32:20.404622Z",
     "shell.execute_reply": "2025-06-10T17:32:20.403937Z",
     "shell.execute_reply.started": "2025-06-10T17:32:20.389504Z"
    },
    "jupyter": {
     "outputs_hidden": false
    },
    "trusted": true
   },
   "outputs": [],
   "source": [
    "# Function to get anime synopsis by ID or name\n",
    "def getSynopsis(anime,synopsis_df):\n",
    "    if isinstance(anime,int):\n",
    "        return synopsis_df[synopsis_df.MAL_ID == anime].sypnopsis.values[0]\n",
    "    if isinstance(anime,str):\n",
    "        return synopsis_df[synopsis_df.Name == anime].sypnopsis.values[0]"
   ]
  },
  {
   "cell_type": "code",
   "execution_count": 63,
   "metadata": {
    "_cell_guid": "c6ede42e-1457-4394-acdd-20923320f143",
    "_uuid": "b5dfbca3-31d2-4f53-9abe-30de0bd6e450",
    "collapsed": false,
    "execution": {
     "iopub.execute_input": "2025-06-10T17:32:20.405629Z",
     "iopub.status.busy": "2025-06-10T17:32:20.405415Z",
     "iopub.status.idle": "2025-06-10T17:32:20.419866Z",
     "shell.execute_reply": "2025-06-10T17:32:20.419389Z",
     "shell.execute_reply.started": "2025-06-10T17:32:20.405609Z"
    },
    "jupyter": {
     "outputs_hidden": false
    },
    "trusted": true
   },
   "outputs": [
    {
     "data": {
      "text/plain": [
       "\"Gabi Braun and Falco Grice have been training their entire lives to inherit one of the seven titans under Marley's control and aid their nation in eradicating the Eldians on Paradis. However, just as all seems well for the two cadets, their peace is suddenly shaken by the arrival of Eren Yeager and the remaining members of the Survey Corps. Having finally reached the Yeager family basement and learned about the dark history surrounding the titans, the Survey Corps has at long last found the answer they so desperately fought to uncover. With the truth now in their hands, the group set out for the world beyond the walls. In Shingeki no Kyojin: The Final Season , two utterly different worlds collide as each party pursues its own agenda in the long-awaited conclusion to Paradis' fight for freedom.\""
      ]
     },
     "execution_count": 63,
     "metadata": {},
     "output_type": "execute_result"
    }
   ],
   "source": [
    "getSynopsis(40028 , synopsis_df)"
   ]
  },
  {
   "cell_type": "code",
   "execution_count": 64,
   "metadata": {
    "_cell_guid": "5e91fbd5-1046-4f5b-9d4f-6e516b25d00b",
    "_uuid": "6334f80c-2e9f-4226-a341-25484bf16650",
    "collapsed": false,
    "execution": {
     "iopub.execute_input": "2025-06-10T17:32:20.420668Z",
     "iopub.status.busy": "2025-06-10T17:32:20.420426Z",
     "iopub.status.idle": "2025-06-10T17:32:20.435445Z",
     "shell.execute_reply": "2025-06-10T17:32:20.434744Z",
     "shell.execute_reply.started": "2025-06-10T17:32:20.420649Z"
    },
    "jupyter": {
     "outputs_hidden": false
    },
    "trusted": true
   },
   "outputs": [
    {
     "data": {
      "text/plain": [
       "'The self-proclaimed mad scientist Rintarou Okabe rents out a room in a rickety old building in Akihabara, where he indulges himself in his hobby of inventing prospective \"future gadgets\" with fellow lab members: Mayuri Shiina, his air-headed childhood friend, and Hashida Itaru, a perverted hacker nicknamed \"Daru.\" The three pass the time by tinkering with their most promising contraption yet, a machine dubbed the \"Phone Microwave,\" which performs the strange function of morphing bananas into piles of green gel. Though miraculous in itself, the phenomenon doesn\\'t provide anything concrete in Okabe\\'s search for a scientific breakthrough; that is, until the lab members are spurred into action by a string of mysterious happenings before stumbling upon an unexpected success—the Phone Microwave can send emails to the past, altering the flow of history. Adapted from the critically acclaimed visual novel by 5pb. and Nitroplus, Steins;Gate takes Okabe through the depths of scientific theory and practicality. Forced across the diverging threads of past and present, Okabe must shoulder the burdens that come with holding the key to the realm of time.'"
      ]
     },
     "execution_count": 64,
     "metadata": {},
     "output_type": "execute_result"
    }
   ],
   "source": [
    "getSynopsis(\"Steins;Gate\",synopsis_df)"
   ]
  },
  {
   "cell_type": "markdown",
   "metadata": {
    "_cell_guid": "8fa378a1-c33c-4244-9304-d46b4b582252",
    "_uuid": "ce6c5e36-1a3f-4258-9899-a6df7a8fc74f",
    "collapsed": false,
    "jupyter": {
     "outputs_hidden": false
    },
    "trusted": true
   },
   "source": [
    "### CONTENT/ITEM BASED RECOMMENDATION"
   ]
  },
  {
   "cell_type": "code",
   "execution_count": 65,
   "metadata": {
    "_cell_guid": "3c2fbb9c-b221-4c21-bc18-ba44487bbe6a",
    "_uuid": "e6438b2d-2b8b-4eb7-a714-e3e31010a682",
    "collapsed": false,
    "execution": {
     "iopub.execute_input": "2025-06-10T17:32:20.436385Z",
     "iopub.status.busy": "2025-06-10T17:32:20.436134Z",
     "iopub.status.idle": "2025-06-10T17:32:20.449843Z",
     "shell.execute_reply": "2025-06-10T17:32:20.449167Z",
     "shell.execute_reply.started": "2025-06-10T17:32:20.436363Z"
    },
    "jupyter": {
     "outputs_hidden": false
    },
    "trusted": true
   },
   "outputs": [],
   "source": [
    "pd.set_option(\"max_colwidth\",None)"
   ]
  },
  {
   "cell_type": "code",
   "execution_count": 66,
   "metadata": {
    "_cell_guid": "80195a33-850e-41dc-97f4-79dc5116e39d",
    "_uuid": "5e82201f-9ba5-4295-b6a9-b49350772cdd",
    "collapsed": false,
    "execution": {
     "iopub.execute_input": "2025-06-10T17:32:20.450913Z",
     "iopub.status.busy": "2025-06-10T17:32:20.450651Z",
     "iopub.status.idle": "2025-06-10T17:32:20.463775Z",
     "shell.execute_reply": "2025-06-10T17:32:20.463266Z",
     "shell.execute_reply.started": "2025-06-10T17:32:20.450891Z"
    },
    "jupyter": {
     "outputs_hidden": false
    },
    "trusted": true
   },
   "outputs": [],
   "source": [
    "# Find similar anime based on learned embeddings using cosine similarity\n",
    "def find_similar_animes(name, anime_weights, anime2anime_encoded, anime2anime_decoded, df, synopsis_df, n=10, return_dist=False, neg=False):\n",
    "    # Get the anime_id for the given name\n",
    "    index = getAnimeFrame(name, df).anime_id.values[0]\n",
    "    encoded_index = anime2anime_encoded.get(index)\n",
    "\n",
    "    if encoded_index is None:\n",
    "        raise ValueError(f\"Encoded index not found for anime ID: {index}\")\n",
    "\n",
    "    weights = anime_weights\n",
    "\n",
    "    # Compute the similarity distances\n",
    "    dists = np.dot(weights, weights[encoded_index])  # Ensure weights[encoded_index] is a 1D array\n",
    "    sorted_dists = np.argsort(dists)\n",
    "\n",
    "    n = n + 1\n",
    "\n",
    "    # Select closest or farthest based on 'neg' flag\n",
    "    if neg:\n",
    "        closest = sorted_dists[:n]\n",
    "    else:\n",
    "        closest = sorted_dists[-n:]\n",
    "\n",
    "    # Return distances and closest indices if requested\n",
    "    if return_dist:\n",
    "        return dists, closest\n",
    "\n",
    "    # Build the similarity array\n",
    "    SimilarityArr = []\n",
    "    for close in closest:\n",
    "        decoded_id = anime2anime_decoded.get(close)\n",
    "       \n",
    "\n",
    "       \n",
    "        anime_frame = getAnimeFrame(decoded_id, df)\n",
    "\n",
    "        anime_name = anime_frame.eng_version.values[0]\n",
    "        genre = anime_frame.Genres.values[0]\n",
    "        similarity = dists[close]\n",
    "   \n",
    "\n",
    "        SimilarityArr.append({\n",
    "            \"anime_id\": decoded_id,\n",
    "            \"name\": anime_name,\n",
    "            \"similarity\": similarity,\n",
    "            \"genre\": genre,\n",
    "        })\n",
    "       \n",
    "\n",
    "    # Create a DataFrame with results and sort by similarity\n",
    "    Frame = pd.DataFrame(SimilarityArr).sort_values(by=\"similarity\", ascending=False)\n",
    "    return Frame[Frame.anime_id != index].drop(['anime_id'], axis=1)"
   ]
  },
  {
   "cell_type": "code",
   "execution_count": 67,
   "metadata": {
    "_cell_guid": "68ce609e-348e-45ab-8b3a-a0c59b67be51",
    "_uuid": "885b4039-a972-4e83-aba8-c8f92be4d67f",
    "collapsed": false,
    "execution": {
     "iopub.execute_input": "2025-06-10T17:32:20.464603Z",
     "iopub.status.busy": "2025-06-10T17:32:20.464415Z",
     "iopub.status.idle": "2025-06-10T17:32:20.503079Z",
     "shell.execute_reply": "2025-06-10T17:32:20.502460Z",
     "shell.execute_reply.started": "2025-06-10T17:32:20.464589Z"
    },
    "jupyter": {
     "outputs_hidden": false
    },
    "trusted": true
   },
   "outputs": [
    {
     "data": {
      "text/html": [
       "<div>\n",
       "<style scoped>\n",
       "    .dataframe tbody tr th:only-of-type {\n",
       "        vertical-align: middle;\n",
       "    }\n",
       "\n",
       "    .dataframe tbody tr th {\n",
       "        vertical-align: top;\n",
       "    }\n",
       "\n",
       "    .dataframe thead th {\n",
       "        text-align: right;\n",
       "    }\n",
       "</style>\n",
       "<table border=\"1\" class=\"dataframe\">\n",
       "  <thead>\n",
       "    <tr style=\"text-align: right;\">\n",
       "      <th></th>\n",
       "      <th>name</th>\n",
       "      <th>similarity</th>\n",
       "      <th>genre</th>\n",
       "    </tr>\n",
       "  </thead>\n",
       "  <tbody>\n",
       "    <tr>\n",
       "      <th>9</th>\n",
       "      <td>Code Geass:Lelouch of the Rebellion R2</td>\n",
       "      <td>0.710407</td>\n",
       "      <td>Action, Military, Sci-Fi, Super Power, Drama, Mecha</td>\n",
       "    </tr>\n",
       "    <tr>\n",
       "      <th>8</th>\n",
       "      <td>Fullmetal Alchemist:Brotherhood</td>\n",
       "      <td>0.699308</td>\n",
       "      <td>Action, Military, Adventure, Comedy, Drama, Magic, Fantasy, Shounen</td>\n",
       "    </tr>\n",
       "    <tr>\n",
       "      <th>7</th>\n",
       "      <td>Steins;Gate:The Movie − Load Region of Déjà Vu</td>\n",
       "      <td>0.693586</td>\n",
       "      <td>Sci-Fi, Drama</td>\n",
       "    </tr>\n",
       "    <tr>\n",
       "      <th>6</th>\n",
       "      <td>Code Geass:Lelouch of the Rebellion</td>\n",
       "      <td>0.692991</td>\n",
       "      <td>Action, Military, Sci-Fi, Super Power, Drama, Mecha, School</td>\n",
       "    </tr>\n",
       "    <tr>\n",
       "      <th>5</th>\n",
       "      <td>Angel Beats!</td>\n",
       "      <td>0.671048</td>\n",
       "      <td>Action, Comedy, Drama, School, Supernatural</td>\n",
       "    </tr>\n",
       "    <tr>\n",
       "      <th>4</th>\n",
       "      <td>Death Note</td>\n",
       "      <td>0.666577</td>\n",
       "      <td>Mystery, Police, Psychological, Supernatural, Thriller, Shounen</td>\n",
       "    </tr>\n",
       "    <tr>\n",
       "      <th>3</th>\n",
       "      <td>Steins;Gate:Egoistic Poriomania</td>\n",
       "      <td>0.645230</td>\n",
       "      <td>Sci-Fi, Comedy, Thriller</td>\n",
       "    </tr>\n",
       "    <tr>\n",
       "      <th>2</th>\n",
       "      <td>Psycho-Pass</td>\n",
       "      <td>0.638712</td>\n",
       "      <td>Action, Sci-Fi, Police, Psychological</td>\n",
       "    </tr>\n",
       "    <tr>\n",
       "      <th>1</th>\n",
       "      <td>anohana:The Flower We Saw That Day</td>\n",
       "      <td>0.625325</td>\n",
       "      <td>Slice of Life, Supernatural, Drama</td>\n",
       "    </tr>\n",
       "    <tr>\n",
       "      <th>0</th>\n",
       "      <td>Attack on Titan</td>\n",
       "      <td>0.623015</td>\n",
       "      <td>Action, Military, Mystery, Super Power, Drama, Fantasy, Shounen</td>\n",
       "    </tr>\n",
       "  </tbody>\n",
       "</table>\n",
       "</div>"
      ],
      "text/plain": [
       "                                             name  similarity  \\\n",
       "9          Code Geass:Lelouch of the Rebellion R2    0.710407   \n",
       "8                 Fullmetal Alchemist:Brotherhood    0.699308   \n",
       "7  Steins;Gate:The Movie − Load Region of Déjà Vu    0.693586   \n",
       "6             Code Geass:Lelouch of the Rebellion    0.692991   \n",
       "5                                    Angel Beats!    0.671048   \n",
       "4                                      Death Note    0.666577   \n",
       "3                 Steins;Gate:Egoistic Poriomania    0.645230   \n",
       "2                                     Psycho-Pass    0.638712   \n",
       "1              anohana:The Flower We Saw That Day    0.625325   \n",
       "0                                 Attack on Titan    0.623015   \n",
       "\n",
       "                                                                 genre  \n",
       "9                  Action, Military, Sci-Fi, Super Power, Drama, Mecha  \n",
       "8  Action, Military, Adventure, Comedy, Drama, Magic, Fantasy, Shounen  \n",
       "7                                                        Sci-Fi, Drama  \n",
       "6          Action, Military, Sci-Fi, Super Power, Drama, Mecha, School  \n",
       "5                          Action, Comedy, Drama, School, Supernatural  \n",
       "4      Mystery, Police, Psychological, Supernatural, Thriller, Shounen  \n",
       "3                                             Sci-Fi, Comedy, Thriller  \n",
       "2                                Action, Sci-Fi, Police, Psychological  \n",
       "1                                   Slice of Life, Supernatural, Drama  \n",
       "0      Action, Military, Mystery, Super Power, Drama, Fantasy, Shounen  "
      ]
     },
     "execution_count": 67,
     "metadata": {},
     "output_type": "execute_result"
    }
   ],
   "source": [
    "find_similar_animes(\n",
    "    \"Steins;Gate\",\n",
    "    anime_weights,\n",
    "    anime2anime_encoded,\n",
    "    anime2anime_decoded,\n",
    "    df,\n",
    "    synopsis_df,\n",
    ")"
   ]
  },
  {
   "cell_type": "markdown",
   "metadata": {
    "_cell_guid": "eec126f7-44bc-484e-93c7-8a07e8651850",
    "_uuid": "a8570650-344f-418e-bb93-da14a53d54b8",
    "collapsed": false,
    "jupyter": {
     "outputs_hidden": false
    },
    "trusted": true
   },
   "source": [
    "### USER BASED RECOMMENDATION"
   ]
  },
  {
   "cell_type": "code",
   "execution_count": 68,
   "metadata": {
    "_cell_guid": "0a5d2d7f-674d-4186-9347-2265783c4a68",
    "_uuid": "314d3720-c139-4524-b73e-b97e4a5f5405",
    "collapsed": false,
    "execution": {
     "iopub.execute_input": "2025-06-10T17:32:20.503858Z",
     "iopub.status.busy": "2025-06-10T17:32:20.503682Z",
     "iopub.status.idle": "2025-06-10T17:32:20.509187Z",
     "shell.execute_reply": "2025-06-10T17:32:20.508683Z",
     "shell.execute_reply.started": "2025-06-10T17:32:20.503844Z"
    },
    "jupyter": {
     "outputs_hidden": false
    },
    "trusted": true
   },
   "outputs": [],
   "source": [
    "# Find users with similar preferences using learned user embeddings\n",
    "def find_similar_users(item_input , user_weights , user2user_encoded , user2user_decoded, n=10 , return_dist=False,neg=False):\n",
    "    try:\n",
    "        index=item_input\n",
    "        encoded_index = user2user_encoded.get(index)\n",
    "\n",
    "        weights = user_weights\n",
    "\n",
    "        dists = np.dot(weights,weights[encoded_index])\n",
    "        sorted_dists = np.argsort(dists)\n",
    "\n",
    "        n=n+1\n",
    "\n",
    "        if neg:\n",
    "            closest = sorted_dists[:n]\n",
    "        else:\n",
    "            closest = sorted_dists[-n:]\n",
    "            \n",
    "\n",
    "        if return_dist:\n",
    "            return dists,closest\n",
    "        \n",
    "        SimilarityArr = []\n",
    "\n",
    "        for close in closest:\n",
    "            similarity = dists[close]\n",
    "\n",
    "            if isinstance(item_input,int):\n",
    "                decoded_id = user2user_decoded.get(close)\n",
    "                SimilarityArr.append({\n",
    "                    \"similar_users\" : decoded_id,\n",
    "                    \"similarity\" : similarity\n",
    "                })\n",
    "        similar_users = pd.DataFrame(SimilarityArr).sort_values(by=\"similarity\",ascending=False)\n",
    "        similar_users = similar_users[similar_users.similar_users != item_input]\n",
    "        return similar_users\n",
    "    except Exception as e:\n",
    "        print(\"Error Occured\",e)"
   ]
  },
  {
   "cell_type": "code",
   "execution_count": 69,
   "metadata": {
    "_cell_guid": "bf11839d-39bf-4695-948a-13f84979fd07",
    "_uuid": "9889b030-9587-47f7-80b1-69dde36940ef",
    "collapsed": false,
    "execution": {
     "iopub.execute_input": "2025-06-10T17:32:20.510143Z",
     "iopub.status.busy": "2025-06-10T17:32:20.509870Z",
     "iopub.status.idle": "2025-06-10T17:32:20.537023Z",
     "shell.execute_reply": "2025-06-10T17:32:20.536389Z",
     "shell.execute_reply.started": "2025-06-10T17:32:20.510129Z"
    },
    "jupyter": {
     "outputs_hidden": false
    },
    "trusted": true
   },
   "outputs": [
    {
     "data": {
      "text/html": [
       "<div>\n",
       "<style scoped>\n",
       "    .dataframe tbody tr th:only-of-type {\n",
       "        vertical-align: middle;\n",
       "    }\n",
       "\n",
       "    .dataframe tbody tr th {\n",
       "        vertical-align: top;\n",
       "    }\n",
       "\n",
       "    .dataframe thead th {\n",
       "        text-align: right;\n",
       "    }\n",
       "</style>\n",
       "<table border=\"1\" class=\"dataframe\">\n",
       "  <thead>\n",
       "    <tr style=\"text-align: right;\">\n",
       "      <th></th>\n",
       "      <th>similar_users</th>\n",
       "      <th>similarity</th>\n",
       "    </tr>\n",
       "  </thead>\n",
       "  <tbody>\n",
       "    <tr>\n",
       "      <th>9</th>\n",
       "      <td>313947</td>\n",
       "      <td>0.553017</td>\n",
       "    </tr>\n",
       "    <tr>\n",
       "      <th>8</th>\n",
       "      <td>274862</td>\n",
       "      <td>0.512333</td>\n",
       "    </tr>\n",
       "    <tr>\n",
       "      <th>7</th>\n",
       "      <td>98664</td>\n",
       "      <td>0.511671</td>\n",
       "    </tr>\n",
       "    <tr>\n",
       "      <th>6</th>\n",
       "      <td>272477</td>\n",
       "      <td>0.506206</td>\n",
       "    </tr>\n",
       "    <tr>\n",
       "      <th>5</th>\n",
       "      <td>34906</td>\n",
       "      <td>0.501349</td>\n",
       "    </tr>\n",
       "    <tr>\n",
       "      <th>4</th>\n",
       "      <td>28115</td>\n",
       "      <td>0.499576</td>\n",
       "    </tr>\n",
       "    <tr>\n",
       "      <th>3</th>\n",
       "      <td>57956</td>\n",
       "      <td>0.499131</td>\n",
       "    </tr>\n",
       "    <tr>\n",
       "      <th>2</th>\n",
       "      <td>202889</td>\n",
       "      <td>0.495516</td>\n",
       "    </tr>\n",
       "    <tr>\n",
       "      <th>1</th>\n",
       "      <td>231956</td>\n",
       "      <td>0.495514</td>\n",
       "    </tr>\n",
       "    <tr>\n",
       "      <th>0</th>\n",
       "      <td>188783</td>\n",
       "      <td>0.492679</td>\n",
       "    </tr>\n",
       "  </tbody>\n",
       "</table>\n",
       "</div>"
      ],
      "text/plain": [
       "   similar_users  similarity\n",
       "9         313947    0.553017\n",
       "8         274862    0.512333\n",
       "7          98664    0.511671\n",
       "6         272477    0.506206\n",
       "5          34906    0.501349\n",
       "4          28115    0.499576\n",
       "3          57956    0.499131\n",
       "2         202889    0.495516\n",
       "1         231956    0.495514\n",
       "0         188783    0.492679"
      ]
     },
     "execution_count": 69,
     "metadata": {},
     "output_type": "execute_result"
    }
   ],
   "source": [
    "find_similar_users(int(11880),user_weights,user2user_encoded,user2user_decoded)"
   ]
  },
  {
   "cell_type": "code",
   "execution_count": 70,
   "metadata": {
    "_cell_guid": "c8c00c08-716d-463a-8ea6-6b56f9c65530",
    "_uuid": "2cb44806-6381-4320-b47c-6699fc3a86b6",
    "collapsed": false,
    "execution": {
     "iopub.execute_input": "2025-06-10T17:32:20.537973Z",
     "iopub.status.busy": "2025-06-10T17:32:20.537718Z",
     "iopub.status.idle": "2025-06-10T17:32:20.542193Z",
     "shell.execute_reply": "2025-06-10T17:32:20.541585Z",
     "shell.execute_reply.started": "2025-06-10T17:32:20.537953Z"
    },
    "jupyter": {
     "outputs_hidden": false
    },
    "trusted": true
   },
   "outputs": [],
   "source": [
    "# Generate and display word cloud for genre visualization\n",
    "def showWordCloud(all_genres):\n",
    "    genres_cloud = WordCloud(width=700,height=400,background_color='white',colormap='gnuplot').generate_from_frequencies(all_genres)\n",
    "    plt.figure(figsize=(10,8))\n",
    "    plt.imshow(genres_cloud,interpolation=\"bilinear\")\n",
    "    plt.axis(\"off\")\n",
    "    plt.show()"
   ]
  },
  {
   "cell_type": "code",
   "execution_count": 71,
   "metadata": {
    "_cell_guid": "1d3d7598-8026-447d-9699-c5abaef75770",
    "_uuid": "31ed53f0-ada3-4c8c-a39d-70e0b0952c4a",
    "collapsed": false,
    "execution": {
     "iopub.execute_input": "2025-06-10T17:32:20.543020Z",
     "iopub.status.busy": "2025-06-10T17:32:20.542832Z",
     "iopub.status.idle": "2025-06-10T17:32:20.558099Z",
     "shell.execute_reply": "2025-06-10T17:32:20.557527Z",
     "shell.execute_reply.started": "2025-06-10T17:32:20.543005Z"
    },
    "jupyter": {
     "outputs_hidden": false
    },
    "trusted": true
   },
   "outputs": [],
   "source": [
    "from collections import defaultdict"
   ]
  },
  {
   "cell_type": "code",
   "execution_count": 72,
   "metadata": {
    "_cell_guid": "cd3b6b48-0d50-4323-a8c5-e4cac7a0a323",
    "_uuid": "d0bab779-d7f3-4f73-a892-d6f619ae4c3e",
    "collapsed": false,
    "execution": {
     "iopub.execute_input": "2025-06-10T17:32:20.559004Z",
     "iopub.status.busy": "2025-06-10T17:32:20.558758Z",
     "iopub.status.idle": "2025-06-10T17:32:20.577150Z",
     "shell.execute_reply": "2025-06-10T17:32:20.576367Z",
     "shell.execute_reply.started": "2025-06-10T17:32:20.558953Z"
    },
    "jupyter": {
     "outputs_hidden": false
    },
    "trusted": true
   },
   "outputs": [
    {
     "data": {
      "text/html": [
       "<div>\n",
       "<style scoped>\n",
       "    .dataframe tbody tr th:only-of-type {\n",
       "        vertical-align: middle;\n",
       "    }\n",
       "\n",
       "    .dataframe tbody tr th {\n",
       "        vertical-align: top;\n",
       "    }\n",
       "\n",
       "    .dataframe thead th {\n",
       "        text-align: right;\n",
       "    }\n",
       "</style>\n",
       "<table border=\"1\" class=\"dataframe\">\n",
       "  <thead>\n",
       "    <tr style=\"text-align: right;\">\n",
       "      <th></th>\n",
       "      <th>anime_id</th>\n",
       "      <th>eng_version</th>\n",
       "      <th>Score</th>\n",
       "      <th>Genres</th>\n",
       "      <th>Episodes</th>\n",
       "      <th>Type</th>\n",
       "      <th>Premiered</th>\n",
       "      <th>Members</th>\n",
       "    </tr>\n",
       "  </thead>\n",
       "  <tbody>\n",
       "    <tr>\n",
       "      <th>3971</th>\n",
       "      <td>5114</td>\n",
       "      <td>Fullmetal Alchemist:Brotherhood</td>\n",
       "      <td>9.19</td>\n",
       "      <td>Action, Military, Adventure, Comedy, Drama, Magic, Fantasy, Shounen</td>\n",
       "      <td>64</td>\n",
       "      <td>TV</td>\n",
       "      <td>Spring 2009</td>\n",
       "      <td>2248456</td>\n",
       "    </tr>\n",
       "  </tbody>\n",
       "</table>\n",
       "</div>"
      ],
      "text/plain": [
       "      anime_id                      eng_version Score  \\\n",
       "3971      5114  Fullmetal Alchemist:Brotherhood  9.19   \n",
       "\n",
       "                                                                   Genres  \\\n",
       "3971  Action, Military, Adventure, Comedy, Drama, Magic, Fantasy, Shounen   \n",
       "\n",
       "     Episodes Type    Premiered  Members  \n",
       "3971       64   TV  Spring 2009  2248456  "
      ]
     },
     "execution_count": 72,
     "metadata": {},
     "output_type": "execute_result"
    }
   ],
   "source": [
    "df.head(1)"
   ]
  },
  {
   "cell_type": "code",
   "execution_count": 73,
   "metadata": {
    "_cell_guid": "85a7f3a8-24a7-4c51-b454-2fad012eeeb1",
    "_uuid": "5bcd9615-624d-4ab0-a1fc-1d65410524ae",
    "collapsed": false,
    "execution": {
     "iopub.execute_input": "2025-06-10T17:32:20.578177Z",
     "iopub.status.busy": "2025-06-10T17:32:20.577972Z",
     "iopub.status.idle": "2025-06-10T17:32:20.591961Z",
     "shell.execute_reply": "2025-06-10T17:32:20.591378Z",
     "shell.execute_reply.started": "2025-06-10T17:32:20.578162Z"
    },
    "jupyter": {
     "outputs_hidden": false
    },
    "trusted": true
   },
   "outputs": [],
   "source": [
    "# Extract and count genres from anime dataframe for preference analysis\n",
    "def getFavGenre(frame , plot=False):\n",
    "    frame.dropna(inplace=False)\n",
    "    all_genres = defaultdict(int)\n",
    "\n",
    "    genres_list = []\n",
    "    for genres in frame[\"Genres\"]:\n",
    "        if isinstance(genres,str):\n",
    "            for genre in genres.split(','):\n",
    "                genres_list.append(genre)\n",
    "                all_genres[genre.strip()] += 1\n",
    "\n",
    "    if plot:\n",
    "        showWordCloud(all_genres)\n",
    "    \n",
    "    return genres_list"
   ]
  },
  {
   "cell_type": "code",
   "execution_count": 74,
   "metadata": {
    "_cell_guid": "ea485b51-3be6-4836-8bfe-98c2a6d70d91",
    "_uuid": "22a0a6cb-e8cf-4c61-afbc-f50e895e470f",
    "collapsed": false,
    "execution": {
     "iopub.execute_input": "2025-06-10T17:32:20.592743Z",
     "iopub.status.busy": "2025-06-10T17:32:20.592545Z",
     "iopub.status.idle": "2025-06-10T17:32:20.616754Z",
     "shell.execute_reply": "2025-06-10T17:32:20.616069Z",
     "shell.execute_reply.started": "2025-06-10T17:32:20.592730Z"
    },
    "jupyter": {
     "outputs_hidden": false
    },
    "trusted": true
   },
   "outputs": [
    {
     "data": {
      "text/html": [
       "<div>\n",
       "<style scoped>\n",
       "    .dataframe tbody tr th:only-of-type {\n",
       "        vertical-align: middle;\n",
       "    }\n",
       "\n",
       "    .dataframe tbody tr th {\n",
       "        vertical-align: top;\n",
       "    }\n",
       "\n",
       "    .dataframe thead th {\n",
       "        text-align: right;\n",
       "    }\n",
       "</style>\n",
       "<table border=\"1\" class=\"dataframe\">\n",
       "  <thead>\n",
       "    <tr style=\"text-align: right;\">\n",
       "      <th></th>\n",
       "      <th>user_id</th>\n",
       "      <th>anime_id</th>\n",
       "      <th>rating</th>\n",
       "      <th>user</th>\n",
       "      <th>anime</th>\n",
       "    </tr>\n",
       "  </thead>\n",
       "  <tbody>\n",
       "    <tr>\n",
       "      <th>0</th>\n",
       "      <td>191596</td>\n",
       "      <td>27787</td>\n",
       "      <td>0.0</td>\n",
       "      <td>49525</td>\n",
       "      <td>1955</td>\n",
       "    </tr>\n",
       "    <tr>\n",
       "      <th>1</th>\n",
       "      <td>32036</td>\n",
       "      <td>4187</td>\n",
       "      <td>0.0</td>\n",
       "      <td>8217</td>\n",
       "      <td>6628</td>\n",
       "    </tr>\n",
       "  </tbody>\n",
       "</table>\n",
       "</div>"
      ],
      "text/plain": [
       "   user_id  anime_id  rating   user  anime\n",
       "0   191596     27787     0.0  49525   1955\n",
       "1    32036      4187     0.0   8217   6628"
      ]
     },
     "execution_count": 74,
     "metadata": {},
     "output_type": "execute_result"
    }
   ],
   "source": [
    "rating_df.head(2)"
   ]
  },
  {
   "cell_type": "code",
   "execution_count": 75,
   "metadata": {
    "_cell_guid": "130a42fe-de1a-485b-b517-ceb94933883f",
    "_uuid": "bb0aa6f2-58e5-46e6-b15f-abe5c1db12a6",
    "collapsed": false,
    "execution": {
     "iopub.execute_input": "2025-06-10T17:32:20.618001Z",
     "iopub.status.busy": "2025-06-10T17:32:20.617397Z",
     "iopub.status.idle": "2025-06-10T17:32:20.632819Z",
     "shell.execute_reply": "2025-06-10T17:32:20.632267Z",
     "shell.execute_reply.started": "2025-06-10T17:32:20.617984Z"
    },
    "jupyter": {
     "outputs_hidden": false
    },
    "trusted": true
   },
   "outputs": [],
   "source": [
    "# Extract user preferences by analyzing their highest-rated anime (top 25th percentile)\n",
    "def get_user_preferences(user_id , rating_df , df ,plot=False):\n",
    "\n",
    "    animes_watched_by_user = rating_df[rating_df.user_id == user_id]\n",
    "\n",
    "    user_rating_percentile = np.percentile(animes_watched_by_user.rating , 75)\n",
    "\n",
    "    animes_watched_by_user = animes_watched_by_user[animes_watched_by_user.rating >= user_rating_percentile]\n",
    "\n",
    "    top_animes_user = (\n",
    "        animes_watched_by_user.sort_values(by=\"rating\" , ascending=False).anime_id.values\n",
    "    )\n",
    "\n",
    "    anime_df_rows = df[df[\"anime_id\"].isin(top_animes_user)]\n",
    "    anime_df_rows = anime_df_rows[[\"eng_version\",\"Genres\"]]\n",
    "\n",
    "    if plot:\n",
    "        getFavGenre(anime_df_rows,plot)\n",
    "\n",
    "\n",
    "    return anime_df_rows"
   ]
  },
  {
   "cell_type": "code",
   "execution_count": 76,
   "metadata": {
    "_cell_guid": "a99db208-7276-4aba-b8cc-c3638407f6f1",
    "_uuid": "c5029ffa-53be-4720-8e44-c85ac740be6b",
    "collapsed": false,
    "execution": {
     "iopub.execute_input": "2025-06-10T17:32:20.633678Z",
     "iopub.status.busy": "2025-06-10T17:32:20.633463Z",
     "iopub.status.idle": "2025-06-10T17:32:21.073660Z",
     "shell.execute_reply": "2025-06-10T17:32:21.072993Z",
     "shell.execute_reply.started": "2025-06-10T17:32:20.633664Z"
    },
    "jupyter": {
     "outputs_hidden": false
    },
    "trusted": true
   },
   "outputs": [
    {
     "data": {
      "image/png": "[encoded data removed]",
      "text/plain": [
       "<Figure size 1000x800 with 1 Axes>"
      ]
     },
     "metadata": {},
     "output_type": "display_data"
    },
    {
     "data": {
      "text/html": [
       "<div>\n",
       "<style scoped>\n",
       "    .dataframe tbody tr th:only-of-type {\n",
       "        vertical-align: middle;\n",
       "    }\n",
       "\n",
       "    .dataframe tbody tr th {\n",
       "        vertical-align: top;\n",
       "    }\n",
       "\n",
       "    .dataframe thead th {\n",
       "        text-align: right;\n",
       "    }\n",
       "</style>\n",
       "<table border=\"1\" class=\"dataframe\">\n",
       "  <thead>\n",
       "    <tr style=\"text-align: right;\">\n",
       "      <th></th>\n",
       "      <th>eng_version</th>\n",
       "      <th>Genres</th>\n",
       "    </tr>\n",
       "  </thead>\n",
       "  <tbody>\n",
       "    <tr>\n",
       "      <th>3971</th>\n",
       "      <td>Fullmetal Alchemist:Brotherhood</td>\n",
       "      <td>Action, Military, Adventure, Comedy, Drama, Magic, Fantasy, Shounen</td>\n",
       "    </tr>\n",
       "    <tr>\n",
       "      <th>9913</th>\n",
       "      <td>Gintama Season 4</td>\n",
       "      <td>Action, Comedy, Historical, Parody, Samurai, Sci-Fi, Shounen</td>\n",
       "    </tr>\n",
       "    <tr>\n",
       "      <th>6474</th>\n",
       "      <td>Hunter x Hunter</td>\n",
       "      <td>Action, Adventure, Fantasy, Shounen, Super Power</td>\n",
       "    </tr>\n",
       "    <tr>\n",
       "      <th>6006</th>\n",
       "      <td>Gintama Season 2</td>\n",
       "      <td>Action, Sci-Fi, Comedy, Historical, Parody, Samurai, Shounen</td>\n",
       "    </tr>\n",
       "    <tr>\n",
       "      <th>741</th>\n",
       "      <td>Legend of the Galactic Heroes</td>\n",
       "      <td>Military, Sci-Fi, Space, Drama</td>\n",
       "    </tr>\n",
       "    <tr>\n",
       "      <th>...</th>\n",
       "      <td>...</td>\n",
       "      <td>...</td>\n",
       "    </tr>\n",
       "    <tr>\n",
       "      <th>2575</th>\n",
       "      <td>Shootfighter Tekken</td>\n",
       "      <td>Action, Martial Arts, Shounen</td>\n",
       "    </tr>\n",
       "    <tr>\n",
       "      <th>8064</th>\n",
       "      <td>Samurai Flamenco</td>\n",
       "      <td>Action, Comedy, Parody, Super Power</td>\n",
       "    </tr>\n",
       "    <tr>\n",
       "      <th>510</th>\n",
       "      <td>Venus Wars</td>\n",
       "      <td>Action, Sci-Fi, Adventure, Space</td>\n",
       "    </tr>\n",
       "    <tr>\n",
       "      <th>6864</th>\n",
       "      <td>Saint Seiya Omega</td>\n",
       "      <td>Action, Adventure, Fantasy, Shounen</td>\n",
       "    </tr>\n",
       "    <tr>\n",
       "      <th>9796</th>\n",
       "      <td>Garo:Crimson Moon</td>\n",
       "      <td>Action, Demons, Fantasy, Magic, Supernatural</td>\n",
       "    </tr>\n",
       "  </tbody>\n",
       "</table>\n",
       "<p>190 rows × 2 columns</p>\n",
       "</div>"
      ],
      "text/plain": [
       "                          eng_version  \\\n",
       "3971  Fullmetal Alchemist:Brotherhood   \n",
       "9913                 Gintama Season 4   \n",
       "6474                  Hunter x Hunter   \n",
       "6006                 Gintama Season 2   \n",
       "741     Legend of the Galactic Heroes   \n",
       "...                               ...   \n",
       "2575              Shootfighter Tekken   \n",
       "8064                 Samurai Flamenco   \n",
       "510                        Venus Wars   \n",
       "6864                Saint Seiya Omega   \n",
       "9796                Garo:Crimson Moon   \n",
       "\n",
       "                                                                   Genres  \n",
       "3971  Action, Military, Adventure, Comedy, Drama, Magic, Fantasy, Shounen  \n",
       "9913         Action, Comedy, Historical, Parody, Samurai, Sci-Fi, Shounen  \n",
       "6474                     Action, Adventure, Fantasy, Shounen, Super Power  \n",
       "6006         Action, Sci-Fi, Comedy, Historical, Parody, Samurai, Shounen  \n",
       "741                                        Military, Sci-Fi, Space, Drama  \n",
       "...                                                                   ...  \n",
       "2575                                        Action, Martial Arts, Shounen  \n",
       "8064                                  Action, Comedy, Parody, Super Power  \n",
       "510                                      Action, Sci-Fi, Adventure, Space  \n",
       "6864                                  Action, Adventure, Fantasy, Shounen  \n",
       "9796                         Action, Demons, Fantasy, Magic, Supernatural  \n",
       "\n",
       "[190 rows x 2 columns]"
      ]
     },
     "execution_count": 76,
     "metadata": {},
     "output_type": "execute_result"
    }
   ],
   "source": [
    "get_user_preferences(11880 , rating_df, df , plot=True)"
   ]
  },
  {
   "cell_type": "code",
   "execution_count": 77,
   "metadata": {
    "_cell_guid": "213dba3a-858a-49e5-8bc9-89fd314d35af",
    "_uuid": "c09e9d26-90ee-4be0-8a43-27e7caa09a42",
    "collapsed": false,
    "execution": {
     "iopub.execute_input": "2025-06-10T17:32:21.074669Z",
     "iopub.status.busy": "2025-06-10T17:32:21.074392Z",
     "iopub.status.idle": "2025-06-10T17:32:21.081654Z",
     "shell.execute_reply": "2025-06-10T17:32:21.081021Z",
     "shell.execute_reply.started": "2025-06-10T17:32:21.074640Z"
    },
    "jupyter": {
     "outputs_hidden": false
    },
    "trusted": true
   },
   "outputs": [],
   "source": [
    "# Generate recommendations based on preferences of similar users\n",
    "def get_user_recommendations(similar_users , user_pref ,df , synopsis_df, rating_df, n=10):\n",
    "\n",
    "    recommended_animes = []\n",
    "    anime_list = []\n",
    "\n",
    "    for user_id in similar_users.similar_users.values:\n",
    "        pref_list = get_user_preferences(int(user_id) , rating_df, df)\n",
    "\n",
    "        pref_list = pref_list[~pref_list.eng_version.isin(user_pref.eng_version.values)]\n",
    "\n",
    "        if not pref_list.empty:\n",
    "            anime_list.append(pref_list.eng_version.values)\n",
    "\n",
    "    if anime_list:\n",
    "            anime_list = pd.DataFrame(anime_list)\n",
    "\n",
    "            sorted_list = pd.DataFrame(pd.Series(anime_list.values.ravel()).value_counts()).head(n)\n",
    "\n",
    "            for i,anime_name in enumerate(sorted_list.index):\n",
    "                n_user_pref = sorted_list[sorted_list.index == anime_name].values[0][0]\n",
    "\n",
    "                if isinstance(anime_name,str):\n",
    "                    frame = getAnimeFrame(anime_name,df)\n",
    "                    anime_id = frame.anime_id.values[0]\n",
    "                    genre = frame.Genres.values[0]\n",
    "                    synopsis = getSynopsis(int(anime_id),synopsis_df)\n",
    "\n",
    "                    recommended_animes.append({\n",
    "                        \"n\" : n_user_pref,\n",
    "                        \"anime_name\" : anime_name,\n",
    "                        \"Genres\" : genre,\n",
    "                        \"Synopsis\": synopsis\n",
    "                    })\n",
    "    return pd.DataFrame(recommended_animes).head(n)"
   ]
  },
  {
   "cell_type": "code",
   "execution_count": 78,
   "metadata": {
    "_cell_guid": "35f6e51a-9c30-4f72-a83e-f12e291c5240",
    "_uuid": "1169e469-1698-47ea-81c3-e4a377e866dd",
    "collapsed": false,
    "execution": {
     "iopub.execute_input": "2025-06-10T17:32:21.082444Z",
     "iopub.status.busy": "2025-06-10T17:32:21.082188Z",
     "iopub.status.idle": "2025-06-10T17:32:21.147976Z",
     "shell.execute_reply": "2025-06-10T17:32:21.147374Z",
     "shell.execute_reply.started": "2025-06-10T17:32:21.082428Z"
    },
    "jupyter": {
     "outputs_hidden": false
    },
    "trusted": true
   },
   "outputs": [],
   "source": [
    "similar_users =find_similar_users(int(11880),user_weights,user2user_encoded,user2user_decoded)"
   ]
  },
  {
   "cell_type": "code",
   "execution_count": 79,
   "metadata": {
    "_cell_guid": "5e667a28-8efa-4e92-86a5-ab32627d28f3",
    "_uuid": "88484781-9553-41f8-86a5-0ddbabbff266",
    "collapsed": false,
    "execution": {
     "iopub.execute_input": "2025-06-10T17:32:21.148923Z",
     "iopub.status.busy": "2025-06-10T17:32:21.148665Z",
     "iopub.status.idle": "2025-06-10T17:32:21.217060Z",
     "shell.execute_reply": "2025-06-10T17:32:21.216263Z",
     "shell.execute_reply.started": "2025-06-10T17:32:21.148907Z"
    },
    "jupyter": {
     "outputs_hidden": false
    },
    "trusted": true
   },
   "outputs": [],
   "source": [
    "user_pref = get_user_preferences(11880 , rating_df, df , plot=False)"
   ]
  },
  {
   "cell_type": "code",
   "execution_count": 80,
   "metadata": {
    "_cell_guid": "86bc3e35-d6f8-497c-9fcf-29ab412a047f",
    "_uuid": "640b8050-6319-4d76-bcf9-ef1c8c79d8d5",
    "collapsed": false,
    "execution": {
     "iopub.execute_input": "2025-06-10T17:32:21.218202Z",
     "iopub.status.busy": "2025-06-10T17:32:21.217935Z",
     "iopub.status.idle": "2025-06-10T17:32:21.849305Z",
     "shell.execute_reply": "2025-06-10T17:32:21.848632Z",
     "shell.execute_reply.started": "2025-06-10T17:32:21.218177Z"
    },
    "jupyter": {
     "outputs_hidden": false
    },
    "trusted": true
   },
   "outputs": [
    {
     "data": {
      "text/html": [
       "<div>\n",
       "<style scoped>\n",
       "    .dataframe tbody tr th:only-of-type {\n",
       "        vertical-align: middle;\n",
       "    }\n",
       "\n",
       "    .dataframe tbody tr th {\n",
       "        vertical-align: top;\n",
       "    }\n",
       "\n",
       "    .dataframe thead th {\n",
       "        text-align: right;\n",
       "    }\n",
       "</style>\n",
       "<table border=\"1\" class=\"dataframe\">\n",
       "  <thead>\n",
       "    <tr style=\"text-align: right;\">\n",
       "      <th></th>\n",
       "      <th>n</th>\n",
       "      <th>anime_name</th>\n",
       "      <th>Genres</th>\n",
       "      <th>Synopsis</th>\n",
       "    </tr>\n",
       "  </thead>\n",
       "  <tbody>\n",
       "    <tr>\n",
       "      <th>0</th>\n",
       "      <td>9</td>\n",
       "      <td>Code Geass:Lelouch of the Rebellion</td>\n",
       "      <td>Action, Military, Sci-Fi, Super Power, Drama, Mecha, School</td>\n",
       "      <td>In the year 2010, the Holy Empire of Britannia is establishing itself as a dominant military nation, starting with the conquest of Japan. Renamed to Area 11 after its swift defeat, Japan has seen significant resistance against these tyrants in an attempt to regain independence. Lelouch Lamperouge, a Britannian student, unfortunately finds himself caught in a crossfire between the Britannian and the Area 11 rebel armed forces. He is able to escape, however, thanks to the timely appearance of a mysterious girl named C.C., who bestows upon him Geass, the \"Power of Kings.\" Realizing the vast potential of his newfound \"power of absolute obedience,\" Lelouch embarks upon a perilous journey as the masked vigilante known as Zero, leading a merciless onslaught against Britannia in order to get revenge once and for all.</td>\n",
       "    </tr>\n",
       "  </tbody>\n",
       "</table>\n",
       "</div>"
      ],
      "text/plain": [
       "   n                           anime_name  \\\n",
       "0  9  Code Geass:Lelouch of the Rebellion   \n",
       "\n",
       "                                                        Genres  \\\n",
       "0  Action, Military, Sci-Fi, Super Power, Drama, Mecha, School   \n",
       "\n",
       "                                                                                                                                                                                                                                                                                                                                                                                                                                                                                                                                                                                                                                                                                                                                                                                                                                               Synopsis  \n",
       "0  In the year 2010, the Holy Empire of Britannia is establishing itself as a dominant military nation, starting with the conquest of Japan. Renamed to Area 11 after its swift defeat, Japan has seen significant resistance against these tyrants in an attempt to regain independence. Lelouch Lamperouge, a Britannian student, unfortunately finds himself caught in a crossfire between the Britannian and the Area 11 rebel armed forces. He is able to escape, however, thanks to the timely appearance of a mysterious girl named C.C., who bestows upon him Geass, the \"Power of Kings.\" Realizing the vast potential of his newfound \"power of absolute obedience,\" Lelouch embarks upon a perilous journey as the masked vigilante known as Zero, leading a merciless onslaught against Britannia in order to get revenge once and for all.  "
      ]
     },
     "execution_count": 80,
     "metadata": {},
     "output_type": "execute_result"
    }
   ],
   "source": [
    "get_user_recommendations(similar_users,user_pref,df, synopsis_df,rating_df,n=1)"
   ]
  },
  {
   "cell_type": "markdown",
   "metadata": {
    "_cell_guid": "3ef32610-9a71-4d57-b4b0-3f035495e358",
    "_uuid": "84d2ba89-c186-402b-a48b-446933709474",
    "collapsed": false,
    "jupyter": {
     "outputs_hidden": false
    },
    "trusted": true
   },
   "source": [
    "### HYBRID RECOMMENDER SYSTEM"
   ]
  },
  {
   "cell_type": "code",
   "execution_count": 81,
   "metadata": {
    "_cell_guid": "81c2c7d6-ef6a-47e6-be81-a75a38e26a2d",
    "_uuid": "4576782f-5f56-4a7c-967c-6cfa31967530",
    "collapsed": false,
    "execution": {
     "iopub.execute_input": "2025-06-10T17:32:21.850322Z",
     "iopub.status.busy": "2025-06-10T17:32:21.850047Z",
     "iopub.status.idle": "2025-06-10T17:32:21.856059Z",
     "shell.execute_reply": "2025-06-10T17:32:21.855398Z",
     "shell.execute_reply.started": "2025-06-10T17:32:21.850297Z"
    },
    "jupyter": {
     "outputs_hidden": false
    },
    "trusted": true
   },
   "outputs": [],
   "source": [
    "# Hybrid recommendation system combining user-based and content-based filtering with weighted scores\n",
    "def hybrid_recommendation(user_id , user_weight=0.5, content_weight =0.5):\n",
    "\n",
    "    ## User Recommndation\n",
    "\n",
    "    similar_users =find_similar_users(user_id,user_weights,user2user_encoded,user2user_decoded)\n",
    "    user_pref = get_user_preferences(user_id , rating_df, df)\n",
    "    user_recommended_animes =get_user_recommendations(similar_users,user_pref,df, synopsis_df,rating_df)\n",
    "    \n",
    "\n",
    "    user_recommended_anime_list = user_recommended_animes[\"anime_name\"].tolist()\n",
    "    print(user_recommended_anime_list)\n",
    "\n",
    "    #### Content recommendation\n",
    "    content_recommended_animes = []\n",
    "\n",
    "    for anime in user_recommended_anime_list:\n",
    "        similar_animes = find_similar_animes(anime, anime_weights, anime2anime_encoded, anime2anime_decoded, df, synopsis_df)\n",
    "\n",
    "        if similar_animes is not None and not similar_animes.empty:\n",
    "            content_recommended_animes.extend(similar_animes[\"name\"].tolist())\n",
    "        else:\n",
    "            print(f\"No similar anime found {anime}\")\n",
    "    \n",
    "    combined_scores = {}\n",
    "\n",
    "    for anime in user_recommended_anime_list:\n",
    "        combined_scores[anime] = combined_scores.get(anime,0) + user_weight\n",
    "\n",
    "    for anime in content_recommended_animes:\n",
    "        combined_scores[anime] = combined_scores.get(anime,0) + content_weight  \n",
    "\n",
    "    sorted_animes = sorted(combined_scores.items() , key=lambda x:x[1] , reverse=True)\n",
    "\n",
    "    return [anime for anime , score in sorted_animes[:10]]"
   ]
  },
  {
   "cell_type": "code",
   "execution_count": 82,
   "metadata": {
    "_cell_guid": "a5141709-ccd3-46db-b41f-e07b93d47f01",
    "_uuid": "e206edb9-baa8-49e2-8b52-539f5fd0136d",
    "collapsed": false,
    "execution": {
     "iopub.execute_input": "2025-06-10T17:32:21.857090Z",
     "iopub.status.busy": "2025-06-10T17:32:21.856857Z",
     "iopub.status.idle": "2025-06-10T17:32:22.669527Z",
     "shell.execute_reply": "2025-06-10T17:32:22.668838Z",
     "shell.execute_reply.started": "2025-06-10T17:32:21.857075Z"
    },
    "jupyter": {
     "outputs_hidden": false
    },
    "trusted": true
   },
   "outputs": [
    {
     "name": "stdout",
     "output_type": "stream",
     "text": [
      "['Code Geass:Lelouch of the Rebellion', 'Code Geass:Lelouch of the Rebellion R2', 'Clannad ~After Story~', 'Nisemonogatari', 'Death Note', 'Toradora!', 'Fate/Zero', 'Clannad', 'the Garden of sinners Chapter 7:Murder Speculation Part B', 'Kimi ni Todoke:From Me to You']\n"
     ]
    },
    {
     "data": {
      "text/plain": [
       "['Angel Beats!',\n",
       " 'Code Geass:Lelouch of the Rebellion R2',\n",
       " 'Code Geass:Lelouch of the Rebellion',\n",
       " 'Clannad ~After Story~',\n",
       " 'Death Note',\n",
       " 'Toradora!',\n",
       " 'Clannad',\n",
       " 'Fullmetal Alchemist:Brotherhood',\n",
       " 'Fullmetal Alchemist',\n",
       " 'Steins;Gate']"
      ]
     },
     "execution_count": 82,
     "metadata": {},
     "output_type": "execute_result"
    }
   ],
   "source": [
    "hybrid_recommendation(11880)"
   ]
  },
  {
   "cell_type": "code",
   "execution_count": null,
   "metadata": {
    "_cell_guid": "0fe93d43-86c6-4211-a7a0-df270d1401a5",
    "_uuid": "550fbd5a-b33d-43ce-b63c-81c8ee789838",
    "collapsed": false,
    "jupyter": {
     "outputs_hidden": false
    },
    "trusted": true
   },
   "outputs": [],
   "source": []
  }
 ],
 "metadata": {
  "kaggle": {
   "accelerator": "gpu",
   "dataSources": [
    {
     "datasetId": 1225408,
     "sourceId": 2422513,
     "sourceType": "datasetVersion"
    }
   ],
   "dockerImageVersionId": 31041,
   "isGpuEnabled": true,
   "isInternetEnabled": true,
   "language": "python",
   "sourceType": "notebook"
  },
  "kernelspec": {
   "display_name": "Python 3",
   "language": "python",
   "name": "python3"
  },
  "language_info": {
   "codemirror_mode": {
    "name": "ipython",
    "version": 3
   },
   "file_extension": ".py",
   "mimetype": "text/x-python",
   "name": "python",
   "nbconvert_exporter": "python",
   "pygments_lexer": "ipython3",
   "version": "3.12.11"
  }
 },
 "nbformat": 4,
 "nbformat_minor": 4
}
